{
  "nbformat": 4,
  "nbformat_minor": 0,
  "metadata": {
    "colab": {
      "provenance": [],
      "toc_visible": true,
      "gpuType": "T4"
    },
    "kernelspec": {
      "name": "python3",
      "display_name": "Python 3"
    },
    "language_info": {
      "name": "python"
    },
    "accelerator": "GPU"
  },
  "cells": [
    {
      "cell_type": "code",
      "execution_count": 1,
      "metadata": {
        "colab": {
          "base_uri": "https://localhost:8080/"
        },
        "id": "R_SWfM-_mpgd",
        "outputId": "0d97a824-517d-4396-e6ea-e978b3525344"
      },
      "outputs": [
        {
          "output_type": "stream",
          "name": "stdout",
          "text": [
            "Name: keras\n",
            "Version: 2.14.0\n",
            "Summary: Deep learning for humans.\n",
            "Home-page: https://keras.io/\n",
            "Author: Keras team\n",
            "Author-email: keras-users@googlegroups.com\n",
            "License: Apache 2.0\n",
            "Location: /usr/local/lib/python3.10/dist-packages\n",
            "Requires: \n",
            "Required-by: tensorflow\n"
          ]
        }
      ],
      "source": [
        "!pip show keras"
      ]
    },
    {
      "cell_type": "markdown",
      "source": [
        "# LeNet-5 (Le Cun et al., 1998)\n",
        "\n",
        "\n",
        "*   The input to the model is a $32 \\times 32$ grayscale image.\n",
        "*   It has 3 convolutional layers, two average pooling layers, and two fully-connected layers with a softmax classifier.\n",
        "*   LeCun, Y., Bottou, L., Bengio, Y., & Haffner, P. (1998). Gradient-based learning applied to document recognition. Proceedings of the IEEE, 86(11), 2278-2324.\n",
        "\n"
      ],
      "metadata": {
        "id": "el6WmXrtrpNv"
      }
    },
    {
      "cell_type": "markdown",
      "source": [
        "<img src='https://media5.datahacker.rs/2018/11/LeNet5.png'>"
      ],
      "metadata": {
        "id": "szAQ85MALrzF"
      }
    },
    {
      "cell_type": "code",
      "source": [
        "from keras.models import Sequential\n",
        "from keras.layers import InputLayer, Conv2D, AveragePooling2D, Flatten, Dense"
      ],
      "metadata": {
        "id": "AmrQleJcpB-R"
      },
      "execution_count": 2,
      "outputs": []
    },
    {
      "cell_type": "code",
      "source": [
        "def build_lenet_model(input_shape=(32, 32, 1)):\n",
        "\n",
        "    lenet = Sequential()\n",
        "\n",
        "    lenet.add(InputLayer(input_shape=input_shape))\n",
        "    lenet.add(Conv2D(6, kernel_size=(5, 5), strides=(1, 1), activation='tanh'))\n",
        "    lenet.add(AveragePooling2D(pool_size=(2, 2), strides=(2, 2)))\n",
        "    lenet.add(Conv2D(16, kernel_size=(5, 5), strides=(1, 1), activation='tanh'))\n",
        "    lenet.add(AveragePooling2D(pool_size=(2, 2), strides=(2, 2)))\n",
        "    lenet.add(Flatten())\n",
        "    lenet.add(Dense(120, activation='tanh'))\n",
        "    lenet.add(Dense(84, activation='tanh'))\n",
        "    lenet.add(Dense(10, activation='softmax'))\n",
        "\n",
        "    return lenet"
      ],
      "metadata": {
        "id": "caGzaoaGPb1k"
      },
      "execution_count": 3,
      "outputs": []
    },
    {
      "cell_type": "code",
      "source": [
        "build_lenet_model().summary()"
      ],
      "metadata": {
        "colab": {
          "base_uri": "https://localhost:8080/"
        },
        "id": "eyJXDVNYqROg",
        "outputId": "749c41c2-c632-45bb-850e-3b7a051d68b9"
      },
      "execution_count": 4,
      "outputs": [
        {
          "output_type": "stream",
          "name": "stdout",
          "text": [
            "Model: \"sequential\"\n",
            "_________________________________________________________________\n",
            " Layer (type)                Output Shape              Param #   \n",
            "=================================================================\n",
            " conv2d (Conv2D)             (None, 28, 28, 6)         156       \n",
            "                                                                 \n",
            " average_pooling2d (Average  (None, 14, 14, 6)         0         \n",
            " Pooling2D)                                                      \n",
            "                                                                 \n",
            " conv2d_1 (Conv2D)           (None, 10, 10, 16)        2416      \n",
            "                                                                 \n",
            " average_pooling2d_1 (Avera  (None, 5, 5, 16)          0         \n",
            " gePooling2D)                                                    \n",
            "                                                                 \n",
            " flatten (Flatten)           (None, 400)               0         \n",
            "                                                                 \n",
            " dense (Dense)               (None, 120)               48120     \n",
            "                                                                 \n",
            " dense_1 (Dense)             (None, 84)                10164     \n",
            "                                                                 \n",
            " dense_2 (Dense)             (None, 10)                850       \n",
            "                                                                 \n",
            "=================================================================\n",
            "Total params: 61706 (241.04 KB)\n",
            "Trainable params: 61706 (241.04 KB)\n",
            "Non-trainable params: 0 (0.00 Byte)\n",
            "_________________________________________________________________\n"
          ]
        }
      ]
    },
    {
      "cell_type": "markdown",
      "source": [
        "### MNIST data preprocessing\n",
        "\n",
        "1.   The LeNet-5 expects $32 \\times 32$ grayscale images as inputs.\n",
        "2.   We will zero-pad the $28 \\times 28$ images in the MNIST dataset on both the height and width dimensions.\n",
        "\n"
      ],
      "metadata": {
        "id": "EzdqHA6SDAxR"
      }
    },
    {
      "cell_type": "markdown",
      "source": [
        "<img src='https://www.researchgate.net/publication/331664245/figure/fig4/AS:901513404755980@1591948953726/Zero-padding-pads-of-an-image.ppm'>"
      ],
      "metadata": {
        "id": "qSvT9zsKE9ZU"
      }
    },
    {
      "cell_type": "code",
      "source": [
        "import numpy as np\n",
        "import keras\n",
        "from keras.datasets import mnist\n",
        "\n",
        "# Load MNIST data\n",
        "(X_train, y_train), (X_test, y_test) = mnist.load_data()\n",
        "\n",
        "assert X_train.shape == (60000, 28, 28)\n",
        "assert X_test.shape == (10000, 28, 28)\n",
        "assert y_train.shape == (60000, )\n",
        "assert y_test.shape == (10000, )\n",
        "\n",
        "# Add channel dimension: (B, H, W) -> (B, H, W, C)\n",
        "X_train = np.expand_dims(X_train, axis=-1)\n",
        "X_test = np.expand_dims(X_test, axis=-1)\n",
        "\n",
        "assert X_train.shape == (60000, 28, 28, 1)\n",
        "assert X_test.shape == (10000, 28, 28, 1)\n",
        "\n",
        "# Zero padding: 28 x 28 -> 32 x 32\n",
        "X_train = np.pad(X_train, ((0,0), (2,2), (2,2), (0,0)), 'constant')\n",
        "X_test = np.pad(X_test, ((0,0), (2,2), (2,2), (0,0)), 'constant')\n",
        "\n",
        "assert X_train.shape == (60000, 32, 32, 1)\n",
        "assert X_test.shape == (10000, 32, 32, 1)\n",
        "\n",
        "# Convert labels to one-hot vectors\n",
        "y_train = keras.utils.to_categorical(y_train, 10)\n",
        "y_test = keras.utils.to_categorical(y_test, 10)\n",
        "\n",
        "assert y_train.shape == (60000, 10)\n",
        "assert y_test.shape == (10000, 10)"
      ],
      "metadata": {
        "id": "cHWRC1rFBKQB",
        "colab": {
          "base_uri": "https://localhost:8080/"
        },
        "outputId": "dbad863c-eaf9-419e-8836-c46942e8cca2"
      },
      "execution_count": 5,
      "outputs": [
        {
          "output_type": "stream",
          "name": "stdout",
          "text": [
            "Downloading data from https://storage.googleapis.com/tensorflow/tf-keras-datasets/mnist.npz\n",
            "11490434/11490434 [==============================] - 1s 0us/step\n"
          ]
        }
      ]
    },
    {
      "cell_type": "code",
      "source": [
        "X_train = X_train.astype('float32') / 255.\n",
        "X_test = X_test.astype('float32') / 255."
      ],
      "metadata": {
        "id": "mZDzmsKSIe0b"
      },
      "execution_count": 6,
      "outputs": []
    },
    {
      "cell_type": "markdown",
      "source": [
        "### Training LeNet-5 on MNIST"
      ],
      "metadata": {
        "id": "sCccjaNsJ4Vh"
      }
    },
    {
      "cell_type": "code",
      "source": [
        "from keras.optimizers import SGD, Adam"
      ],
      "metadata": {
        "id": "QGlpfTXlKpGK"
      },
      "execution_count": 7,
      "outputs": []
    },
    {
      "cell_type": "code",
      "source": [
        "# Create model\n",
        "lenet = build_lenet_model()\n",
        "\n",
        "# Choose optimizer\n",
        "optimizer = SGD(learning_rate=0.005, weight_decay=5e-4, momentum=.9)\n",
        "\n",
        "# Compile model\n",
        "lenet.compile(loss=\"categorical_crossentropy\",\n",
        "              optimizer=optimizer,\n",
        "              metrics=[\"accuracy\"])\n",
        "\n",
        "# Train model\n",
        "history = lenet.fit(X_train,\n",
        "                    y_train,\n",
        "                    batch_size=128,\n",
        "                    epochs=15,\n",
        "                    validation_split=0.1)"
      ],
      "metadata": {
        "colab": {
          "base_uri": "https://localhost:8080/"
        },
        "id": "g3CHCxJzIv_E",
        "outputId": "156f0abe-77ae-4feb-8ad5-a36be20ee2bd"
      },
      "execution_count": 8,
      "outputs": [
        {
          "output_type": "stream",
          "name": "stdout",
          "text": [
            "Epoch 1/15\n",
            "422/422 [==============================] - 12s 6ms/step - loss: 0.6237 - accuracy: 0.8284 - val_loss: 0.2466 - val_accuracy: 0.9323\n",
            "Epoch 2/15\n",
            "422/422 [==============================] - 2s 5ms/step - loss: 0.2491 - accuracy: 0.9278 - val_loss: 0.1614 - val_accuracy: 0.9567\n",
            "Epoch 3/15\n",
            "422/422 [==============================] - 4s 10ms/step - loss: 0.1751 - accuracy: 0.9494 - val_loss: 0.1185 - val_accuracy: 0.9667\n",
            "Epoch 4/15\n",
            "422/422 [==============================] - 3s 6ms/step - loss: 0.1317 - accuracy: 0.9620 - val_loss: 0.0942 - val_accuracy: 0.9742\n",
            "Epoch 5/15\n",
            "422/422 [==============================] - 2s 5ms/step - loss: 0.1057 - accuracy: 0.9689 - val_loss: 0.0831 - val_accuracy: 0.9772\n",
            "Epoch 6/15\n",
            "422/422 [==============================] - 2s 5ms/step - loss: 0.0895 - accuracy: 0.9738 - val_loss: 0.0736 - val_accuracy: 0.9798\n",
            "Epoch 7/15\n",
            "422/422 [==============================] - 2s 5ms/step - loss: 0.0776 - accuracy: 0.9772 - val_loss: 0.0672 - val_accuracy: 0.9817\n",
            "Epoch 8/15\n",
            "422/422 [==============================] - 3s 6ms/step - loss: 0.0697 - accuracy: 0.9796 - val_loss: 0.0625 - val_accuracy: 0.9825\n",
            "Epoch 9/15\n",
            "422/422 [==============================] - 2s 6ms/step - loss: 0.0632 - accuracy: 0.9817 - val_loss: 0.0591 - val_accuracy: 0.9833\n",
            "Epoch 10/15\n",
            "422/422 [==============================] - 2s 5ms/step - loss: 0.0580 - accuracy: 0.9829 - val_loss: 0.0581 - val_accuracy: 0.9838\n",
            "Epoch 11/15\n",
            "422/422 [==============================] - 2s 5ms/step - loss: 0.0532 - accuracy: 0.9845 - val_loss: 0.0534 - val_accuracy: 0.9850\n",
            "Epoch 12/15\n",
            "422/422 [==============================] - 2s 5ms/step - loss: 0.0499 - accuracy: 0.9853 - val_loss: 0.0506 - val_accuracy: 0.9863\n",
            "Epoch 13/15\n",
            "422/422 [==============================] - 2s 5ms/step - loss: 0.0467 - accuracy: 0.9862 - val_loss: 0.0493 - val_accuracy: 0.9862\n",
            "Epoch 14/15\n",
            "422/422 [==============================] - 3s 7ms/step - loss: 0.0436 - accuracy: 0.9872 - val_loss: 0.0497 - val_accuracy: 0.9860\n",
            "Epoch 15/15\n",
            "422/422 [==============================] - 2s 5ms/step - loss: 0.0413 - accuracy: 0.9881 - val_loss: 0.0462 - val_accuracy: 0.9867\n"
          ]
        }
      ]
    },
    {
      "cell_type": "markdown",
      "source": [
        "### Visualization & Evaluation"
      ],
      "metadata": {
        "id": "iMuY-8iKT_m9"
      }
    },
    {
      "cell_type": "code",
      "source": [
        "import matplotlib.pyplot as plt"
      ],
      "metadata": {
        "id": "vbvelOR9NXiM"
      },
      "execution_count": 9,
      "outputs": []
    },
    {
      "cell_type": "code",
      "source": [
        "train_plot_kws = dict(linewidth=3., marker='o', markersize=5, alpha=.5, color='b')\n",
        "valid_plot_kws = dict(linewidth=3., marker='o', markersize=5, alpha=.5, color='r')\n",
        "\n",
        "fig, axes = plt.subplots(nrows=1, ncols=2, figsize=(9, 5))\n",
        "\n",
        "axes[0].plot(history.history['loss'], label='Training', **train_plot_kws)\n",
        "axes[0].plot(history.history['val_loss'], label='Validation', **valid_plot_kws)\n",
        "axes[1].plot(history.history['accuracy'], label='Training', **train_plot_kws)\n",
        "axes[1].plot(history.history['val_accuracy'], label='Validation', **valid_plot_kws)\n",
        "\n",
        "axes[0].legend(loc='best')\n",
        "axes[1].legend(loc='best')\n",
        "\n",
        "axes[0].grid(True, alpha=.2)\n",
        "axes[1].grid(True, alpha=.2)\n",
        "\n",
        "axes[0].set_xlabel('Epoch')\n",
        "axes[1].set_xlabel('Epoch')\n",
        "\n",
        "axes[0].set_ylabel('Loss')\n",
        "axes[1].set_ylabel('Accuracy')\n",
        "\n",
        "fig.suptitle('Training Trajectory of LeNet-5 on MNIST data.')\n",
        "fig.tight_layout(pad=1.01)\n",
        "\n",
        "plt.show(fig)"
      ],
      "metadata": {
        "colab": {
          "base_uri": "https://localhost:8080/",
          "height": 512
        },
        "id": "Y5mjhpiWQIMm",
        "outputId": "c89954fc-f66f-42fb-d3ca-f7f55f94690d"
      },
      "execution_count": 10,
      "outputs": [
        {
          "output_type": "display_data",
          "data": {
            "text/plain": [
              "<Figure size 900x500 with 2 Axes>"
            ],
            "image/png": "[encoded data removed]"
          },
          "metadata": {}
        }
      ]
    },
    {
      "cell_type": "code",
      "source": [
        "test_loss, test_acc = lenet.evaluate(X_test, y_test, batch_size=512)\n",
        "print(\"[Testing Performance] Loss: {:.4f} | Accuracy: {:.4f}\".format(test_loss, test_acc))"
      ],
      "metadata": {
        "colab": {
          "base_uri": "https://localhost:8080/"
        },
        "id": "puICjVVGTXBk",
        "outputId": "dbc82acd-eef6-409e-afb0-62078d7cc1c5"
      },
      "execution_count": 11,
      "outputs": [
        {
          "output_type": "stream",
          "name": "stdout",
          "text": [
            "20/20 [==============================] - 1s 21ms/step - loss: 0.0461 - accuracy: 0.9854\n",
            "[Testing Performance] Loss: 0.0461 | Accuracy: 0.9854\n"
          ]
        }
      ]
    },
    {
      "cell_type": "markdown",
      "source": [
        "# AlexNet (Krizhevsky et al., 2012)\n",
        "\n",
        "\n",
        "*   The input to the model is a $227 \\times 227 \\times 3$ image.\n",
        "*   It has five convolutional layers, three max pooling layers, and two fully-connected layers followed by a softmax classifier.\n",
        "*   ReLU activations replaced with sigmoid & tanh activations.\n",
        "*   Dropout was applied to the fully-connected layers to prevent overfitting.\n",
        "*   Krizhevsky, A., Sutskever, I., & Hinton, G. E. (2012). Imagenet classification with deep convolutional neural networks. Advances in neural information processing systems, 25."
      ],
      "metadata": {
        "id": "AZqXyMuhsb-t"
      }
    },
    {
      "cell_type": "code",
      "source": [
        "from keras.models import Sequential\n",
        "from keras.layers import InputLayer, Conv2D, MaxPooling2D, Flatten, Dense, Dropout"
      ],
      "metadata": {
        "id": "YXktuWvvqbuw"
      },
      "execution_count": 14,
      "outputs": []
    },
    {
      "cell_type": "code",
      "source": [
        "def build_alexnet_model(input_shape=(227, 227, 3)):\n",
        "\n",
        "    alexnet = Sequential()\n",
        "    alexnet.add(InputLayer(input_shape=(227, 227, 3)))\n",
        "\n",
        "    alexnet.add(Conv2D(96, kernel_size=(11, 11), strides=(4, 4), activation='relu'))\n",
        "    alexnet.add(MaxPooling2D(pool_size=(3, 3), strides=(2, 2)))\n",
        "\n",
        "    alexnet.add(Conv2D(256, kernel_size=(5, 5), activation='relu', padding='same'))\n",
        "    alexnet.add(MaxPooling2D(pool_size=(3, 3), strides=(2, 2)))\n",
        "\n",
        "    alexnet.add(Conv2D(384, kernel_size=(3, 3), activation='relu', padding='same'))\n",
        "    alexnet.add(Conv2D(384, kernel_size=(3, 3), activation='relu', padding='same'))\n",
        "    alexnet.add(Conv2D(256, kernel_size=(3, 3), activation='relu', padding='same'))\n",
        "    alexnet.add(MaxPooling2D(pool_size=(3, 3), strides=(2, 2)))\n",
        "\n",
        "    alexnet.add(Flatten())\n",
        "    alexnet.add(Dense(4096, activation='relu'))\n",
        "    alexnet.add(Dropout(0.5))\n",
        "    alexnet.add(Dense(4096, activation='relu'))\n",
        "    alexnet.add(Dropout(0.5))\n",
        "    alexnet.add(Dense(1000, activation='softmax'))\n",
        "\n",
        "    return alexnet"
      ],
      "metadata": {
        "id": "f9w4gY2_3cR3"
      },
      "execution_count": 15,
      "outputs": []
    },
    {
      "cell_type": "code",
      "source": [
        "alexnet = build_alexnet_model()\n",
        "alexnet.summary()"
      ],
      "metadata": {
        "id": "1mXfdS1TNQhD",
        "colab": {
          "base_uri": "https://localhost:8080/"
        },
        "outputId": "83e946c4-eb6f-4e38-803f-1950a9f076ea"
      },
      "execution_count": 17,
      "outputs": [
        {
          "output_type": "stream",
          "name": "stdout",
          "text": [
            "Model: \"sequential_4\"\n",
            "_________________________________________________________________\n",
            " Layer (type)                Output Shape              Param #   \n",
            "=================================================================\n",
            " conv2d_10 (Conv2D)          (None, 55, 55, 96)        34944     \n",
            "                                                                 \n",
            " max_pooling2d_3 (MaxPoolin  (None, 27, 27, 96)        0         \n",
            " g2D)                                                            \n",
            "                                                                 \n",
            " conv2d_11 (Conv2D)          (None, 27, 27, 256)       614656    \n",
            "                                                                 \n",
            " max_pooling2d_4 (MaxPoolin  (None, 13, 13, 256)       0         \n",
            " g2D)                                                            \n",
            "                                                                 \n",
            " conv2d_12 (Conv2D)          (None, 13, 13, 384)       885120    \n",
            "                                                                 \n",
            " conv2d_13 (Conv2D)          (None, 13, 13, 384)       1327488   \n",
            "                                                                 \n",
            " conv2d_14 (Conv2D)          (None, 13, 13, 256)       884992    \n",
            "                                                                 \n",
            " max_pooling2d_5 (MaxPoolin  (None, 6, 6, 256)         0         \n",
            " g2D)                                                            \n",
            "                                                                 \n",
            " flatten_3 (Flatten)         (None, 9216)              0         \n",
            "                                                                 \n",
            " dense_9 (Dense)             (None, 4096)              37752832  \n",
            "                                                                 \n",
            " dropout_2 (Dropout)         (None, 4096)              0         \n",
            "                                                                 \n",
            " dense_10 (Dense)            (None, 4096)              16781312  \n",
            "                                                                 \n",
            " dropout_3 (Dropout)         (None, 4096)              0         \n",
            "                                                                 \n",
            " dense_11 (Dense)            (None, 1000)              4097000   \n",
            "                                                                 \n",
            "=================================================================\n",
            "Total params: 62378344 (237.95 MB)\n",
            "Trainable params: 62378344 (237.95 MB)\n",
            "Non-trainable params: 0 (0.00 Byte)\n",
            "_________________________________________________________________\n"
          ]
        }
      ]
    },
    {
      "cell_type": "markdown",
      "source": [
        "# VGG-16 (Simonyan and Zisserman, 2014)\n",
        "\n",
        "\n",
        "*   The input to the model is a $224 \\times 224 \\times 3$ image.\n",
        "*   It demonstrated that using very small $3 \\times 3$ convolution filters instead of larger ones (e.g., $7 \\times 7$ or $11 \\times 11$) are more effective in increasing the network depth.\n",
        "*   Simonyan, K., & Zisserman, A. (2014). Very deep convolutional networks for large-scale image recognition. arXiv preprint arXiv:1409.1556.\n",
        "\n"
      ],
      "metadata": {
        "id": "X-R_jNrvn5iP"
      }
    },
    {
      "cell_type": "code",
      "source": [
        "from keras.models import Sequential\n",
        "from keras.layers import InputLayer, Conv2D, MaxPooling2D, Flatten, Dense"
      ],
      "metadata": {
        "id": "ZXV7_IsR4ElD"
      },
      "execution_count": 23,
      "outputs": []
    },
    {
      "cell_type": "code",
      "source": [
        "def build_vgg16_model(input_shape=(224, 224, 3)):\n",
        "\n",
        "    vgg16 = Sequential([\n",
        "\n",
        "            # First Conv Block\n",
        "            InputLayer(input_shape=input_shape),\n",
        "            Conv2D(64, (3, 3), activation='relu', padding='same'),\n",
        "            Conv2D(64, (3, 3), activation='relu', padding='same'),\n",
        "            MaxPooling2D((2, 2), strides=(2, 2)),\n",
        "\n",
        "            # Second Conv Block\n",
        "            Conv2D(128, (3, 3), activation='relu', padding='same'),\n",
        "            Conv2D(128, (3, 3), activation='relu', padding='same'),\n",
        "            MaxPooling2D((2, 2), strides=(2, 2)),\n",
        "\n",
        "            # Third Conv Block\n",
        "            Conv2D(256, (3, 3), activation='relu', padding='same'),\n",
        "            Conv2D(256, (3, 3), activation='relu', padding='same'),\n",
        "            Conv2D(256, (3, 3), activation='relu', padding='same'),\n",
        "            MaxPooling2D((2, 2), strides=(2, 2)),\n",
        "\n",
        "            # Fourth Conv Block\n",
        "            Conv2D(512, (3, 3), activation='relu', padding='same'),\n",
        "            Conv2D(512, (3, 3), activation='relu', padding='same'),\n",
        "            Conv2D(512, (3, 3), activation='relu', padding='same'),\n",
        "            MaxPooling2D((2, 2), strides=(2, 2)),\n",
        "\n",
        "            # Fifth Conv Block\n",
        "            Conv2D(512, (3, 3), activation='relu', padding='same'),\n",
        "            Conv2D(512, (3, 3), activation='relu', padding='same'),\n",
        "            Conv2D(512, (3, 3), activation='relu', padding='same'),\n",
        "            MaxPooling2D((2, 2), strides=(2, 2)),\n",
        "\n",
        "            # Fully Connected Layers\n",
        "            Flatten(),\n",
        "            Dense(4096, activation='relu'),\n",
        "            Dense(4096, activation='relu'),\n",
        "            Dense(1000, activation='softmax')\n",
        "\n",
        "        ])\n",
        "\n",
        "    return vgg16"
      ],
      "metadata": {
        "id": "0ti38cR8mieC"
      },
      "execution_count": 18,
      "outputs": []
    },
    {
      "cell_type": "code",
      "source": [
        "build_vgg16_model().summary()"
      ],
      "metadata": {
        "colab": {
          "base_uri": "https://localhost:8080/"
        },
        "id": "rrPK5Jha4Syp",
        "outputId": "aa564d24-1df5-46da-d285-94caa1a43bca"
      },
      "execution_count": 19,
      "outputs": [
        {
          "output_type": "stream",
          "name": "stdout",
          "text": [
            "Model: \"sequential_5\"\n",
            "_________________________________________________________________\n",
            " Layer (type)                Output Shape              Param #   \n",
            "=================================================================\n",
            " conv2d_15 (Conv2D)          (None, 224, 224, 64)      1792      \n",
            "                                                                 \n",
            " conv2d_16 (Conv2D)          (None, 224, 224, 64)      36928     \n",
            "                                                                 \n",
            " max_pooling2d_6 (MaxPoolin  (None, 112, 112, 64)      0         \n",
            " g2D)                                                            \n",
            "                                                                 \n",
            " conv2d_17 (Conv2D)          (None, 112, 112, 128)     73856     \n",
            "                                                                 \n",
            " conv2d_18 (Conv2D)          (None, 112, 112, 128)     147584    \n",
            "                                                                 \n",
            " max_pooling2d_7 (MaxPoolin  (None, 56, 56, 128)       0         \n",
            " g2D)                                                            \n",
            "                                                                 \n",
            " conv2d_19 (Conv2D)          (None, 56, 56, 256)       295168    \n",
            "                                                                 \n",
            " conv2d_20 (Conv2D)          (None, 56, 56, 256)       590080    \n",
            "                                                                 \n",
            " conv2d_21 (Conv2D)          (None, 56, 56, 256)       590080    \n",
            "                                                                 \n",
            " max_pooling2d_8 (MaxPoolin  (None, 28, 28, 256)       0         \n",
            " g2D)                                                            \n",
            "                                                                 \n",
            " conv2d_22 (Conv2D)          (None, 28, 28, 512)       1180160   \n",
            "                                                                 \n",
            " conv2d_23 (Conv2D)          (None, 28, 28, 512)       2359808   \n",
            "                                                                 \n",
            " conv2d_24 (Conv2D)          (None, 28, 28, 512)       2359808   \n",
            "                                                                 \n",
            " max_pooling2d_9 (MaxPoolin  (None, 14, 14, 512)       0         \n",
            " g2D)                                                            \n",
            "                                                                 \n",
            " conv2d_25 (Conv2D)          (None, 14, 14, 512)       2359808   \n",
            "                                                                 \n",
            " conv2d_26 (Conv2D)          (None, 14, 14, 512)       2359808   \n",
            "                                                                 \n",
            " conv2d_27 (Conv2D)          (None, 14, 14, 512)       2359808   \n",
            "                                                                 \n",
            " max_pooling2d_10 (MaxPooli  (None, 7, 7, 512)         0         \n",
            " ng2D)                                                           \n",
            "                                                                 \n",
            " flatten_4 (Flatten)         (None, 25088)             0         \n",
            "                                                                 \n",
            " dense_12 (Dense)            (None, 4096)              102764544 \n",
            "                                                                 \n",
            " dense_13 (Dense)            (None, 4096)              16781312  \n",
            "                                                                 \n",
            " dense_14 (Dense)            (None, 1000)              4097000   \n",
            "                                                                 \n",
            "=================================================================\n",
            "Total params: 138357544 (527.79 MB)\n",
            "Trainable params: 138357544 (527.79 MB)\n",
            "Non-trainable params: 0 (0.00 Byte)\n",
            "_________________________________________________________________\n"
          ]
        }
      ]
    },
    {
      "cell_type": "markdown",
      "source": [
        "### Using Pre-trained Models"
      ],
      "metadata": {
        "id": "uCCFcwJa6DvT"
      }
    },
    {
      "cell_type": "code",
      "source": [
        "\"\"\"\n",
        "    VGG models pre-trained on ImageNet are available.\n",
        "        https://keras.io/api/applications/vgg/\n",
        "\"\"\"\n",
        "\n",
        "from keras.applications import VGG16\n",
        "\n",
        "keras_vgg16 = VGG16(include_top=True,\n",
        "                    weights='imagenet',\n",
        "                    input_shape=(224, 224, 3),\n",
        "                    classes=1000,\n",
        "                    )\n",
        "\n",
        "keras_vgg16.summary()"
      ],
      "metadata": {
        "colab": {
          "base_uri": "https://localhost:8080/"
        },
        "id": "yJ1OX1744jyf",
        "outputId": "553875cf-c10e-4335-d4e8-ba958c871a34"
      },
      "execution_count": 24,
      "outputs": [
        {
          "output_type": "stream",
          "name": "stdout",
          "text": [
            "Model: \"vgg16\"\n",
            "_________________________________________________________________\n",
            " Layer (type)                Output Shape              Param #   \n",
            "=================================================================\n",
            " input_8 (InputLayer)        [(None, 224, 224, 3)]     0         \n",
            "                                                                 \n",
            " block1_conv1 (Conv2D)       (None, 224, 224, 64)      1792      \n",
            "                                                                 \n",
            " block1_conv2 (Conv2D)       (None, 224, 224, 64)      36928     \n",
            "                                                                 \n",
            " block1_pool (MaxPooling2D)  (None, 112, 112, 64)      0         \n",
            "                                                                 \n",
            " block2_conv1 (Conv2D)       (None, 112, 112, 128)     73856     \n",
            "                                                                 \n",
            " block2_conv2 (Conv2D)       (None, 112, 112, 128)     147584    \n",
            "                                                                 \n",
            " block2_pool (MaxPooling2D)  (None, 56, 56, 128)       0         \n",
            "                                                                 \n",
            " block3_conv1 (Conv2D)       (None, 56, 56, 256)       295168    \n",
            "                                                                 \n",
            " block3_conv2 (Conv2D)       (None, 56, 56, 256)       590080    \n",
            "                                                                 \n",
            " block3_conv3 (Conv2D)       (None, 56, 56, 256)       590080    \n",
            "                                                                 \n",
            " block3_pool (MaxPooling2D)  (None, 28, 28, 256)       0         \n",
            "                                                                 \n",
            " block4_conv1 (Conv2D)       (None, 28, 28, 512)       1180160   \n",
            "                                                                 \n",
            " block4_conv2 (Conv2D)       (None, 28, 28, 512)       2359808   \n",
            "                                                                 \n",
            " block4_conv3 (Conv2D)       (None, 28, 28, 512)       2359808   \n",
            "                                                                 \n",
            " block4_pool (MaxPooling2D)  (None, 14, 14, 512)       0         \n",
            "                                                                 \n",
            " block5_conv1 (Conv2D)       (None, 14, 14, 512)       2359808   \n",
            "                                                                 \n",
            " block5_conv2 (Conv2D)       (None, 14, 14, 512)       2359808   \n",
            "                                                                 \n",
            " block5_conv3 (Conv2D)       (None, 14, 14, 512)       2359808   \n",
            "                                                                 \n",
            " block5_pool (MaxPooling2D)  (None, 7, 7, 512)         0         \n",
            "                                                                 \n",
            " flatten (Flatten)           (None, 25088)             0         \n",
            "                                                                 \n",
            " fc1 (Dense)                 (None, 4096)              102764544 \n",
            "                                                                 \n",
            " fc2 (Dense)                 (None, 4096)              16781312  \n",
            "                                                                 \n",
            " predictions (Dense)         (None, 1000)              4097000   \n",
            "                                                                 \n",
            "=================================================================\n",
            "Total params: 138357544 (527.79 MB)\n",
            "Trainable params: 138357544 (527.79 MB)\n",
            "Non-trainable params: 0 (0.00 Byte)\n",
            "_________________________________________________________________\n"
          ]
        }
      ]
    },
    {
      "cell_type": "markdown",
      "source": [
        "### Inference on any image"
      ],
      "metadata": {
        "id": "W60LDrB66OUZ"
      }
    },
    {
      "cell_type": "markdown",
      "source": [
        "<img src='https://thumbs.dreamstime.com/b/golden-retriever-dog-21668976.jpg'>"
      ],
      "metadata": {
        "id": "PCCEYvs96d1N"
      }
    },
    {
      "cell_type": "code",
      "source": [
        "import numpy as np\n",
        "import requests\n",
        "from keras.preprocessing import image\n",
        "from keras.applications.vgg16 import preprocess_input, decode_predictions\n",
        "from PIL import Image\n",
        "from io import BytesIO\n",
        "\n",
        "\n",
        "def load_and_preprocess_image_from_url(url):\n",
        "    response = requests.get(url)\n",
        "    img = Image.open(BytesIO(response.content))\n",
        "    img = img.resize((224, 224))\n",
        "    img_array = image.img_to_array(img)\n",
        "    img_array = np.expand_dims(img_array, axis=0)\n",
        "    img_array = preprocess_input(img_array)\n",
        "    return img_array\n",
        "\n",
        "# Replace this URL with the URL of the image you want to use\n",
        "image_url = \"https://thumbs.dreamstime.com/b/golden-retriever-dog-21668976.jpg\"\n",
        "img = load_and_preprocess_image_from_url(image_url)"
      ],
      "metadata": {
        "id": "8PxezuqV5y72"
      },
      "execution_count": 26,
      "outputs": []
    },
    {
      "cell_type": "code",
      "source": [
        "img.shape  # a 4D tensor of shape (B, H, W, C)"
      ],
      "metadata": {
        "colab": {
          "base_uri": "https://localhost:8080/"
        },
        "id": "_bhNToVV6jyG",
        "outputId": "191b704c-0b76-4cfa-a753-82c95c50fd3e"
      },
      "execution_count": 31,
      "outputs": [
        {
          "output_type": "execute_result",
          "data": {
            "text/plain": [
              "(1, 224, 224, 3)"
            ]
          },
          "metadata": {},
          "execution_count": 31
        }
      ]
    },
    {
      "cell_type": "code",
      "source": [
        "predictions = keras_vgg16.predict(img)"
      ],
      "metadata": {
        "colab": {
          "base_uri": "https://localhost:8080/"
        },
        "id": "4vr7-nAX7gmQ",
        "outputId": "d17fbd88-d4eb-48d9-d30c-5f32b552068a"
      },
      "execution_count": 33,
      "outputs": [
        {
          "output_type": "stream",
          "name": "stdout",
          "text": [
            "1/1 [==============================] - 2s 2s/step\n"
          ]
        }
      ]
    },
    {
      "cell_type": "code",
      "source": [
        "predictions.shape"
      ],
      "metadata": {
        "colab": {
          "base_uri": "https://localhost:8080/"
        },
        "id": "JIU0cJWQ7kxO",
        "outputId": "965c1f90-b36e-418e-ca43-2aa2cf3753cd"
      },
      "execution_count": 35,
      "outputs": [
        {
          "output_type": "execute_result",
          "data": {
            "text/plain": [
              "(1, 1000)"
            ]
          },
          "metadata": {},
          "execution_count": 35
        }
      ]
    },
    {
      "cell_type": "code",
      "source": [
        "TOP_K = 10\n",
        "\n",
        "decoded_predictions = decode_predictions(predictions, top=TOP_K)[0]\n",
        "for i, (imagenet_id, label, score) in enumerate(decoded_predictions):\n",
        "    print(f\"{i + 1}: {label} ({score:.3f})\")"
      ],
      "metadata": {
        "colab": {
          "base_uri": "https://localhost:8080/"
        },
        "id": "t70Nrmr17rvT",
        "outputId": "707d7f01-fc14-42fb-eb68-1dbb6f97d9bd"
      },
      "execution_count": 37,
      "outputs": [
        {
          "output_type": "stream",
          "name": "stdout",
          "text": [
            "1: golden_retriever (0.434)\n",
            "2: Saluki (0.241)\n",
            "3: Afghan_hound (0.136)\n",
            "4: Great_Dane (0.052)\n",
            "5: Labrador_retriever (0.030)\n",
            "6: Rhodesian_ridgeback (0.025)\n",
            "7: Irish_wolfhound (0.015)\n",
            "8: briard (0.007)\n",
            "9: Leonberg (0.006)\n",
            "10: collie (0.005)\n"
          ]
        }
      ]
    },
    {
      "cell_type": "markdown",
      "source": [
        "# ResNet-18 (He et al., 2015)\n",
        "\n",
        "This is a residual network which uses skip connections to allow gradients to flow through the network without vanishing. It's more complex than VGG-16 and addresses the issue of training deeper networks.\n",
        "\n",
        "\n",
        "\n",
        "*   **Skip connections** allow the input to a layer to be added to its output, effectively creating a shortcut path for the gradient during backpropagation. It helps in alleviating the vanishing gradient problem, as they provide an alternate path for the gradient to flow through the network.\n",
        "*   **Global Average Pooling (GAP)** works by taking the average of each feature map from the preceding convolutional layer, effectively summarizing the spatial information. This strategy is beneficial because it enforces correspondences between feature maps and classification categories, which makes the internal representation of the network more interpretable and reduces the total number of parameters.\n",
        "*   He, K., Zhang, X., Ren, S., & Sun, J. (2016). Deep residual learning for image recognition. In Proceedings of the IEEE conference on computer vision and pattern recognition (pp. 770-778).\n",
        "\n"
      ],
      "metadata": {
        "id": "cWRD6sya3oYQ"
      }
    },
    {
      "cell_type": "markdown",
      "source": [
        "ResNet-18 architecture:\n",
        "\n",
        "<img src='https://d2l.ai/_images/resnet18-90.svg'>\n"
      ],
      "metadata": {
        "id": "7TCov3e36m8Z"
      }
    },
    {
      "cell_type": "code",
      "source": [
        "from keras.models import Model\n",
        "from keras.layers import Input, Conv2D, MaxPooling2D, Dense\n",
        "from keras.layers import BatchNormalization, ReLU, Add\n",
        "from keras.layers import GlobalAveragePooling2D"
      ],
      "metadata": {
        "id": "b5ajSBdM3ovt"
      },
      "execution_count": 38,
      "outputs": []
    },
    {
      "cell_type": "code",
      "source": [
        "def residual_block(x, filters, reduce=False):\n",
        "\n",
        "    # stride = (2, 2) will halve the spatial dimensions\n",
        "    stride = (2, 2) if reduce else (1, 1)\n",
        "    shortcut = x\n",
        "\n",
        "    # First component of the main path\n",
        "    x = Conv2D(filters, (3, 3), strides=stride, padding='same')(x)\n",
        "    x = BatchNormalization()(x)\n",
        "    x = ReLU()(x)\n",
        "\n",
        "    # Second component of the main path\n",
        "    x = Conv2D(filters, (3, 3), strides=(1, 1), padding='same')(x)\n",
        "    x = BatchNormalization()(x)\n",
        "\n",
        "    # Shortcut path\n",
        "    if reduce:\n",
        "        shortcut = Conv2D(filters, (1, 1), strides=stride, padding='valid')(shortcut)\n",
        "        shortcut = BatchNormalization()(shortcut)\n",
        "\n",
        "    # Add shortcut to the main path\n",
        "    x = Add()([x, shortcut])\n",
        "    x = ReLU()(x)\n",
        "\n",
        "    return x"
      ],
      "metadata": {
        "id": "8exkqRo2prq_"
      },
      "execution_count": 42,
      "outputs": []
    },
    {
      "cell_type": "markdown",
      "source": [
        "<img src='https://d2l.ai/_images/resnet-block.svg'>"
      ],
      "metadata": {
        "id": "9Nj0bj5-6JzR"
      }
    },
    {
      "cell_type": "markdown",
      "source": [
        "<img src=\"https://blog.kakaocdn.net/dn/becdhK/btru8HJKUHP/bFWFqKOpnMaKrk0H3BJOr1/img.png\">"
      ],
      "metadata": {
        "id": "c4CZSl5h9vmJ"
      }
    },
    {
      "cell_type": "code",
      "source": [
        "\"\"\"\n",
        "    Use the Keras Functional API:\n",
        "        https://keras.io/guides/functional_api/\n",
        "\"\"\"\n",
        "\n",
        "\n",
        "def build_resnet18_model(input_shape=(224, 224, 3), first_conv=7, num_classes=1000):\n",
        "\n",
        "    input_tensor = Input(shape=input_shape)\n",
        "\n",
        "    # Initial Conv Layer\n",
        "    if first_conv == 7:\n",
        "        x = Conv2D(64, (7, 7), strides=(2, 2), padding='same')(input_tensor)\n",
        "        x = BatchNormalization()(x)\n",
        "        x = ReLU()(x)\n",
        "        x = MaxPooling2D((3, 3), strides=(2, 2), padding='same')(x)\n",
        "    elif first_conv == 3:\n",
        "        x = Conv2D(64, (3, 3), strides=(1, 1), padding='same')(input_tensor)\n",
        "        x = BatchNormalization()(x)\n",
        "        x = ReLU()(x)\n",
        "    else:\n",
        "        raise ValueError(f'first_conv={first_conv} is not supported.')\n",
        "\n",
        "    # Residual Blocks\n",
        "    x = residual_block(x, 64, reduce=False)\n",
        "    x = residual_block(x, 64, reduce=False)\n",
        "\n",
        "    x = residual_block(x, 128, reduce=True)\n",
        "    x = residual_block(x, 128, reduce=False)\n",
        "\n",
        "    x = residual_block(x, 256, reduce=True)\n",
        "    x = residual_block(x, 256, reduce=False)\n",
        "\n",
        "    x = residual_block(x, 512, reduce=True)\n",
        "    x = residual_block(x, 512, reduce=False)\n",
        "\n",
        "    # Global Average Pooling\n",
        "    x = GlobalAveragePooling2D()(x)\n",
        "    y = Dense(num_classes, activation='softmax')(x)\n",
        "\n",
        "    resnet18 = Model(inputs=input_tensor, outputs=y)\n",
        "\n",
        "    return resnet18"
      ],
      "metadata": {
        "id": "k0cH9U826KQ_"
      },
      "execution_count": 64,
      "outputs": []
    },
    {
      "cell_type": "code",
      "source": [
        "build_resnet18_model().summary();"
      ],
      "metadata": {
        "id": "nR7gt_h39-K_"
      },
      "execution_count": null,
      "outputs": []
    },
    {
      "cell_type": "markdown",
      "source": [
        "### CIFAR-10 data preprocessing"
      ],
      "metadata": {
        "id": "JelzI29U-XOD"
      }
    },
    {
      "cell_type": "code",
      "source": [
        "from keras.datasets import cifar10\n",
        "import keras\n",
        "\n",
        "# Load CIFAR10 data\n",
        "(X_train, y_train), (X_test, y_test) = cifar10.load_data()\n",
        "\n",
        "assert X_train.shape == (50000, 32, 32, 3)\n",
        "assert X_test.shape == (10000, 32, 32, 3)\n",
        "assert y_train.shape == (50000, 1)\n",
        "assert y_test.shape == (10000, 1)\n",
        "\n",
        "# Normalize the data\n",
        "X_train = X_train.astype('float32') / 255.0\n",
        "X_test = X_test.astype('float32') / 255.0\n",
        "\n",
        "# Convert class vectors to binary class matrices (one-hot encoding)\n",
        "y_train = keras.utils.to_categorical(y_train, 10)\n",
        "y_test = keras.utils.to_categorical(y_test, 10)\n",
        "\n",
        "assert y_train.shape == (50000, 10)\n",
        "assert y_test.shape == (10000, 10)"
      ],
      "metadata": {
        "id": "NH9YFdOL97bg"
      },
      "execution_count": 59,
      "outputs": []
    },
    {
      "cell_type": "markdown",
      "source": [
        "### Training ResNet-18 on CIFAR-10"
      ],
      "metadata": {
        "id": "56XgEjrY-jgl"
      }
    },
    {
      "cell_type": "code",
      "source": [
        "resnet18 = build_resnet18_model(input_shape=(32, 32, 3), first_conv=3, num_classes=10)\n",
        "resnet18.summary()"
      ],
      "metadata": {
        "id": "jFOy42zh-egD"
      },
      "execution_count": null,
      "outputs": []
    },
    {
      "cell_type": "code",
      "source": [
        "from keras.optimizers import AdamW\n",
        "\n",
        "optimizer = AdamW(learning_rate=0.001, weight_decay=0.0001)\n",
        "resnet18.compile(optimizer=optimizer, loss='categorical_crossentropy', metrics=['accuracy'])\n",
        "\n",
        "history = resnet18.fit(X_train, y_train,\n",
        "                       epochs=30,\n",
        "                       batch_size=128,\n",
        "                       validation_split=0.1,)"
      ],
      "metadata": {
        "colab": {
          "base_uri": "https://localhost:8080/"
        },
        "id": "hcf6-Q9hABo1",
        "outputId": "189d0b08-7c0f-4dff-c76e-d30761a815f6"
      },
      "execution_count": 81,
      "outputs": [
        {
          "output_type": "stream",
          "name": "stdout",
          "text": [
            "Epoch 1/30\n",
            "352/352 [==============================] - 85s 116ms/step - loss: 1.2855 - accuracy: 0.5423 - val_loss: 3.4193 - val_accuracy: 0.1516\n",
            "Epoch 2/30\n",
            "352/352 [==============================] - 41s 117ms/step - loss: 0.7820 - accuracy: 0.7257 - val_loss: 0.9715 - val_accuracy: 0.6802\n",
            "Epoch 3/30\n",
            "352/352 [==============================] - 42s 119ms/step - loss: 0.5786 - accuracy: 0.7982 - val_loss: 0.7941 - val_accuracy: 0.7292\n",
            "Epoch 4/30\n",
            "352/352 [==============================] - 41s 116ms/step - loss: 0.4428 - accuracy: 0.8462 - val_loss: 1.5762 - val_accuracy: 0.5908\n",
            "Epoch 5/30\n",
            "352/352 [==============================] - 41s 117ms/step - loss: 0.3392 - accuracy: 0.8801 - val_loss: 1.1124 - val_accuracy: 0.6858\n",
            "Epoch 6/30\n",
            "352/352 [==============================] - 42s 121ms/step - loss: 0.2595 - accuracy: 0.9076 - val_loss: 0.8923 - val_accuracy: 0.7516\n",
            "Epoch 7/30\n",
            "352/352 [==============================] - 41s 118ms/step - loss: 0.1881 - accuracy: 0.9323 - val_loss: 1.4540 - val_accuracy: 0.7174\n",
            "Epoch 8/30\n",
            "352/352 [==============================] - 41s 117ms/step - loss: 0.1388 - accuracy: 0.9501 - val_loss: 1.0394 - val_accuracy: 0.7500\n",
            "Epoch 9/30\n",
            "352/352 [==============================] - 41s 117ms/step - loss: 0.1099 - accuracy: 0.9606 - val_loss: 1.1574 - val_accuracy: 0.7404\n",
            "Epoch 10/30\n",
            "352/352 [==============================] - 41s 118ms/step - loss: 0.0917 - accuracy: 0.9677 - val_loss: 1.1393 - val_accuracy: 0.7598\n",
            "Epoch 11/30\n",
            "352/352 [==============================] - 43s 121ms/step - loss: 0.0740 - accuracy: 0.9752 - val_loss: 0.8364 - val_accuracy: 0.8062\n",
            "Epoch 12/30\n",
            "352/352 [==============================] - 41s 117ms/step - loss: 0.0660 - accuracy: 0.9773 - val_loss: 0.7857 - val_accuracy: 0.8230\n",
            "Epoch 13/30\n",
            "352/352 [==============================] - 41s 118ms/step - loss: 0.0543 - accuracy: 0.9815 - val_loss: 0.9269 - val_accuracy: 0.8054\n",
            "Epoch 14/30\n",
            "352/352 [==============================] - 41s 118ms/step - loss: 0.0546 - accuracy: 0.9811 - val_loss: 1.0566 - val_accuracy: 0.7958\n",
            "Epoch 15/30\n",
            "352/352 [==============================] - 43s 121ms/step - loss: 0.0513 - accuracy: 0.9817 - val_loss: 1.1050 - val_accuracy: 0.7782\n",
            "Epoch 16/30\n",
            "352/352 [==============================] - 41s 117ms/step - loss: 0.0408 - accuracy: 0.9858 - val_loss: 0.9563 - val_accuracy: 0.8090\n",
            "Epoch 17/30\n",
            "352/352 [==============================] - 41s 118ms/step - loss: 0.0488 - accuracy: 0.9832 - val_loss: 1.0858 - val_accuracy: 0.7912\n",
            "Epoch 18/30\n",
            "352/352 [==============================] - 41s 117ms/step - loss: 0.0480 - accuracy: 0.9830 - val_loss: 1.2193 - val_accuracy: 0.7748\n",
            "Epoch 19/30\n",
            "352/352 [==============================] - 43s 121ms/step - loss: 0.0402 - accuracy: 0.9859 - val_loss: 1.2924 - val_accuracy: 0.7562\n",
            "Epoch 20/30\n",
            "352/352 [==============================] - 41s 117ms/step - loss: 0.0294 - accuracy: 0.9900 - val_loss: 1.0707 - val_accuracy: 0.8086\n",
            "Epoch 21/30\n",
            "352/352 [==============================] - 43s 121ms/step - loss: 0.0313 - accuracy: 0.9889 - val_loss: 1.1140 - val_accuracy: 0.8120\n",
            "Epoch 22/30\n",
            "352/352 [==============================] - 41s 117ms/step - loss: 0.0395 - accuracy: 0.9866 - val_loss: 1.0416 - val_accuracy: 0.8070\n",
            "Epoch 23/30\n",
            "352/352 [==============================] - 41s 117ms/step - loss: 0.0209 - accuracy: 0.9927 - val_loss: 1.0161 - val_accuracy: 0.8222\n",
            "Epoch 24/30\n",
            "352/352 [==============================] - 41s 118ms/step - loss: 0.0289 - accuracy: 0.9902 - val_loss: 1.4797 - val_accuracy: 0.7588\n",
            "Epoch 25/30\n",
            "352/352 [==============================] - 42s 118ms/step - loss: 0.0382 - accuracy: 0.9864 - val_loss: 1.1771 - val_accuracy: 0.7880\n",
            "Epoch 26/30\n",
            "352/352 [==============================] - 41s 118ms/step - loss: 0.0212 - accuracy: 0.9928 - val_loss: 1.3088 - val_accuracy: 0.8006\n",
            "Epoch 27/30\n",
            "352/352 [==============================] - 41s 118ms/step - loss: 0.0249 - accuracy: 0.9915 - val_loss: 0.9041 - val_accuracy: 0.8308\n",
            "Epoch 28/30\n",
            "352/352 [==============================] - 42s 118ms/step - loss: 0.0275 - accuracy: 0.9902 - val_loss: 1.0355 - val_accuracy: 0.8028\n",
            "Epoch 29/30\n",
            "352/352 [==============================] - 42s 118ms/step - loss: 0.0255 - accuracy: 0.9917 - val_loss: 0.9753 - val_accuracy: 0.8208\n",
            "Epoch 30/30\n",
            "352/352 [==============================] - 42s 118ms/step - loss: 0.0197 - accuracy: 0.9930 - val_loss: 0.9452 - val_accuracy: 0.8296\n"
          ]
        }
      ]
    },
    {
      "cell_type": "code",
      "source": [
        "import matplotlib.pyplot as plt\n",
        "\n",
        "train_plot_kws = dict(linewidth=3., marker='o', markersize=5, alpha=.5, color='gray')\n",
        "valid_plot_kws = dict(linewidth=3., marker='o', markersize=5, alpha=.5, color='green')\n",
        "\n",
        "fig, axes = plt.subplots(nrows=1, ncols=2, figsize=(9, 5))\n",
        "\n",
        "axes[0].plot(history.history['loss'], label='Training', **train_plot_kws)\n",
        "axes[0].plot(history.history['val_loss'], label='Validation', **valid_plot_kws)\n",
        "axes[1].plot(history.history['accuracy'], label='Training', **train_plot_kws)\n",
        "axes[1].plot(history.history['val_accuracy'], label='Validation', **valid_plot_kws)\n",
        "\n",
        "axes[0].legend(loc='best')\n",
        "axes[1].legend(loc='best')\n",
        "\n",
        "axes[0].grid(True, alpha=.2)\n",
        "axes[1].grid(True, alpha=.2)\n",
        "\n",
        "axes[0].set_xlabel('Epoch')\n",
        "axes[1].set_xlabel('Epoch')\n",
        "\n",
        "axes[0].set_ylabel('Loss')\n",
        "axes[1].set_ylabel('Accuracy')\n",
        "\n",
        "fig.suptitle('Training Trajectory of ResNet-18 on CIFAR-10 data.')\n",
        "fig.tight_layout(pad=1.01)\n",
        "\n",
        "plt.show(fig)"
      ],
      "metadata": {
        "colab": {
          "base_uri": "https://localhost:8080/",
          "height": 512
        },
        "id": "DAqUAIXLEs4_",
        "outputId": "676911ee-f1dc-4549-8f8d-a3506672630f"
      },
      "execution_count": 82,
      "outputs": [
        {
          "output_type": "display_data",
          "data": {
            "text/plain": [
              "<Figure size 900x500 with 2 Axes>"
            ],
            "image/png": "[encoded data removed]"
          },
          "metadata": {}
        }
      ]
    },
    {
      "cell_type": "code",
      "source": [
        "test_loss, test_acc = resnet18.evaluate(X_test, y_test, batch_size=512)\n",
        "print(\"[Testing Performance] Loss: {:.4f} | Accuracy: {:.4f}\".format(test_loss, test_acc))"
      ],
      "metadata": {
        "id": "Ey4krw74FFA_"
      },
      "execution_count": null,
      "outputs": []
    },
    {
      "cell_type": "markdown",
      "source": [
        "### Using Pretrained Models\n",
        "\n",
        "\n",
        "\n",
        "*   ResNet-18 is not provided as a pre-trained model.\n",
        "*   Only ResNet-50 and deeper models are available under `keras.applications`.\n",
        "*   For a exhaustive list of pretrained vision models: https://keras.io/api/applications/\n",
        "\n"
      ],
      "metadata": {
        "id": "MNguYRurCJwm"
      }
    },
    {
      "cell_type": "code",
      "source": [
        "from keras.applications.resnet50 import ResNet50\n",
        "\n",
        "# Load ResNet50 model pre-trained on ImageNet\n",
        "resnet50 = ResNet50(weights='imagenet',\n",
        "                    include_top=True,\n",
        "                    input_shape=(224, 224, 3),\n",
        "                    classes=1000,\n",
        "                    )"
      ],
      "metadata": {
        "id": "rly8rDIADI-u"
      },
      "execution_count": 75,
      "outputs": []
    },
    {
      "cell_type": "markdown",
      "source": [
        "### Inference on any image"
      ],
      "metadata": {
        "id": "1L6gLvHQFTBA"
      }
    },
    {
      "cell_type": "markdown",
      "source": [
        "<img src=\"https://files.worldwildlife.org/wwfcmsprod/images/Tiger_resting_Bandhavgarh_National_Park_India/hero_small/6aofsvaglm_Medium_WW226365.jpg\">"
      ],
      "metadata": {
        "id": "5rwlkPTiEVcI"
      }
    },
    {
      "cell_type": "code",
      "source": [
        "import numpy as np\n",
        "import requests\n",
        "from keras.preprocessing import image\n",
        "from keras.applications.resnet50 import preprocess_input, decode_predictions\n",
        "from PIL import Image\n",
        "from io import BytesIO"
      ],
      "metadata": {
        "id": "TkAsCPQnFaB9"
      },
      "execution_count": null,
      "outputs": []
    },
    {
      "cell_type": "code",
      "source": [
        "def load_and_preprocess_image_from_url(url):\n",
        "    response = requests.get(url)\n",
        "    img = Image.open(BytesIO(response.content))\n",
        "    img = img.resize((224, 224))\n",
        "    img_array = image.img_to_array(img)\n",
        "    img_array = np.expand_dims(img_array, axis=0)\n",
        "    img_array = preprocess_input(img_array)\n",
        "    return img_array\n",
        "\n",
        "# Replace this URL with the URL of the image you want to use\n",
        "image_url = \"https://files.worldwildlife.org/wwfcmsprod/images/Tiger_resting_Bandhavgarh_National_Park_India/hero_small/6aofsvaglm_Medium_WW226365.jpg\"\n",
        "img = load_and_preprocess_image_from_url(image_url)"
      ],
      "metadata": {
        "id": "oGtCsFBWFZ3h"
      },
      "execution_count": null,
      "outputs": []
    },
    {
      "cell_type": "code",
      "source": [
        "predictions = resnet50.predict(img)"
      ],
      "metadata": {
        "colab": {
          "base_uri": "https://localhost:8080/"
        },
        "id": "PqioTIebEIfh",
        "outputId": "511ba976-ce7d-413b-ed78-d9eed44018c4"
      },
      "execution_count": 76,
      "outputs": [
        {
          "output_type": "stream",
          "name": "stdout",
          "text": [
            "1/1 [==============================] - 1s 1s/step\n"
          ]
        }
      ]
    },
    {
      "cell_type": "code",
      "source": [
        "predictions.shape"
      ],
      "metadata": {
        "colab": {
          "base_uri": "https://localhost:8080/"
        },
        "id": "Y7YfxQTKEIuW",
        "outputId": "4a35f3ef-e361-40de-a73c-c19afd636afa"
      },
      "execution_count": 77,
      "outputs": [
        {
          "output_type": "execute_result",
          "data": {
            "text/plain": [
              "(1, 1000)"
            ]
          },
          "metadata": {},
          "execution_count": 77
        }
      ]
    },
    {
      "cell_type": "code",
      "source": [
        "TOP_K = 10\n",
        "\n",
        "decoded_predictions = decode_predictions(predictions, top=TOP_K)[0]\n",
        "for i, (imagenet_id, label, score) in enumerate(decoded_predictions):\n",
        "    print(f\"{i + 1}: {label} ({score:.3f})\")"
      ],
      "metadata": {
        "colab": {
          "base_uri": "https://localhost:8080/"
        },
        "id": "ED-XRMNwERKB",
        "outputId": "3f5abd79-0305-4505-ecc8-2376953bb860"
      },
      "execution_count": 78,
      "outputs": [
        {
          "output_type": "stream",
          "name": "stdout",
          "text": [
            "1: tiger (0.601)\n",
            "2: tiger_cat (0.396)\n",
            "3: jaguar (0.001)\n",
            "4: zebra (0.001)\n",
            "5: prairie_chicken (0.001)\n",
            "6: impala (0.000)\n",
            "7: lynx (0.000)\n",
            "8: leopard (0.000)\n",
            "9: tabby (0.000)\n",
            "10: gazelle (0.000)\n"
          ]
        }
      ]
    },
    {
      "cell_type": "code",
      "source": [],
      "metadata": {
        "id": "VHCBMdggESEt"
      },
      "execution_count": null,
      "outputs": []
    }
  ]
}