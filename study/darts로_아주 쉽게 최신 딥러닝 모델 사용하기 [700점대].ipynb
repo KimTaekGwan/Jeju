{
 "cells": [
  {
   "cell_type": "markdown",
   "metadata": {},
   "source": [
    "# Darts?"
   ]
  },
  {
   "cell_type": "markdown",
   "metadata": {
    "ExecuteTime": {
     "end_time": "2023-11-14T04:40:53.715229Z",
     "start_time": "2023-11-14T04:40:53.703053Z"
    }
   },
   "source": [
    "<!DOCTYPE html>\n",
    "<html>\n",
    "<head>\n",
    "    <style>\n",
    "        .image-container {\n",
    "            display: flex; /* Flex 컨테이너 설정 */\n",
    "        }\n",
    "        .image-container img {\n",
    "            width: 50%; /* 이미지 너비 설정 */\n",
    "            height: auto; /* 이미지 높이 자동 조정 */\n",
    "        }\n",
    "    </style>\n",
    "</head>\n",
    "<body>\n",
    "\n",
    "<div class=\"image-container\">\n",
    "    <img src=\"https://unit8.com/wp-content/uploads/2021/07/image-13.png\" alt=\"Image 1\">\n",
    "</div>\n",
    "\n",
    "</body>\n",
    "</html>\n"
   ]
  },
  {
   "cell_type": "markdown",
   "metadata": {},
   "source": [
    "**Darts**는 Python을 위한 오픈 소스 라이브러리로, 시계열 데이터에 대한 예측 및 분석을 수행하기 위해 설계되었습니다.\n",
    "시계열 예측을 위한 다양한 모델과 도구를 제공하며, 사용하기 쉽고 유연한 API를 갖추고 있습니다.\n",
    "\n",
    "- **다양한 시계열 모델 지원**: Darts는 전통적인 통계 모델(예: ARIMA, Exponential Smoothing)부터 최신 딥 러닝 모델(예: LSTM, Transformer, DLinear, N-HITS. . . )에 이르기까지 다양한 시계열 예측 모델을 지원합니다.\n",
    "- **시계열 데이터 처리**: 시계열 데이터를 쉽게 처리하고 변환할 수 있는 기능을 제공합니다. 예를 들어, 시계열을 훈련 및 테스트 세트로 분할하거나, 시계열을 스케일링하고, 특성을 추출하는 등의 작업을 수행할 수 있습니다.\n",
    "- **모델 훈련 및 예측**: Darts는 모델을 훈련하고 미래의 데이터 포인트를 예측하는 간단한 인터페이스를 제공합니다. 이를 통해 사용자는 적은 코드로 모델을 빠르게 훈련시키고 예측을 생성할 수 있습니다.\n",
    "- **모델 평가**: 다양한 평가 지표를 사용하여 모델의 성능을 측정하고 비교할 수 있습니다.\n",
    "- **시각화 도구**: 시계열 데이터와 예측 결과를 시각화하기 위한 도구를 제공합니다. 이를 통해 데이터의 패턴을 쉽게 파악하고 모델의 성능을 직관적으로 이해할 수 있습니다.\n",
    "- **확장성**: Darts는 사용자가 자신만의 모델을 정의하고 기존 모델과 함께 사용할 수 있도록 확장 가능한 구조를 가지고 있습니다."
   ]
  },
  {
   "cell_type": "markdown",
   "metadata": {
    "id": "P3jG6OkNVUtz"
   },
   "source": [
    "# Description"
   ]
  },
  {
   "cell_type": "markdown",
   "metadata": {
    "id": "PJmDRIs1IlYU"
   },
   "source": [
    "- 2019.01.01 ~ 2023.03.03까지의 유통 가격 데이터\n",
    "- `item` : 품목\n",
    "   - TG : 감귤 (Tangerine)\n",
    "   - BC : 브로콜리 (Broccoli)\n",
    "   - RD : 무 (Radish)\n",
    "   - CR : 당근 (Carrot)\n",
    "   - CB : 양배추 (Cabbage)\n",
    "- `corporation` : 유통 법인 코드\n",
    "  - 법인 A부터 F 존재\n",
    "- `location` : 지역 코드\n",
    "  - J : 제주도 제주시\n",
    "  - S : 제주도 서귀포시\n",
    "- `supply(kg)` : 유통된 물량, kg 단위\n",
    "- `price(원/kg)` : 유통된 품목들의 kg 마다의 가격, 원 단위"
   ]
  },
  {
   "cell_type": "code",
   "execution_count": 1,
   "metadata": {
    "ExecuteTime": {
     "end_time": "2023-11-14T04:26:38.748617Z",
     "start_time": "2023-11-14T04:26:38.743656Z"
    },
    "colab": {
     "base_uri": "https://localhost:8080/"
    },
    "id": "5dqYLCvCUWrg",
    "outputId": "be342067-729b-4855-db10-137ca9b4cca8",
    "scrolled": true
   },
   "outputs": [],
   "source": [
    "# !pip install pytimekr darts"
   ]
  },
  {
   "cell_type": "code",
   "execution_count": 4,
   "metadata": {
    "ExecuteTime": {
     "end_time": "2023-11-14T03:44:35.542320Z",
     "start_time": "2023-11-14T03:44:33.423437Z"
    },
    "id": "RV7ByE7ZSsWn"
   },
   "outputs": [],
   "source": [
    "#Regression\n",
    "import pandas as pd\n",
    "import numpy as np\n",
    "import matplotlib.pyplot as plt\n",
    "import seaborn as sns\n",
    "import matplotlib\n",
    "%matplotlib inline\n",
    "\n",
    "import warnings\n",
    "warnings.filterwarnings('ignore')\n",
    "\n",
    "from sklearn.model_selection import KFold, cross_val_score, train_test_split, TimeSeriesSplit\n",
    "from sklearn.linear_model import Ridge, Lasso, LinearRegression\n",
    "from sklearn.neighbors import KNeighborsRegressor\n",
    "from sklearn.svm import SVR\n",
    "from sklearn.tree import DecisionTreeRegressor, plot_tree\n",
    "from sklearn.ensemble import RandomForestRegressor, ExtraTreesRegressor, VotingRegressor, StackingRegressor, AdaBoostRegressor, HistGradientBoostingRegressor\n",
    "from sklearn.dummy import DummyRegressor\n",
    "from sklearn.impute import SimpleImputer\n",
    "from sklearn.metrics import mean_absolute_error, mean_squared_error, f1_score\n",
    "from sklearn.pipeline import make_pipeline, Pipeline\n",
    "from sklearn.preprocessing import StandardScaler, MinMaxScaler, RobustScaler, LabelEncoder,OrdinalEncoder, OneHotEncoder, PolynomialFeatures\n",
    "from sklearn.compose import ColumnTransformer\n",
    "from sklearn.inspection import PartialDependenceDisplay\n",
    "from lightgbm import LGBMRegressor\n",
    "from xgboost import XGBRegressor"
   ]
  },
  {
   "cell_type": "markdown",
   "metadata": {
    "id": "KI6ZXe67UWM7"
   },
   "source": [
    "# Data"
   ]
  },
  {
   "cell_type": "code",
   "execution_count": 5,
   "metadata": {},
   "outputs": [
    {
     "data": {
      "text/plain": [
       "'/Users/ktg/Desktop/Jeju-Specialties'"
      ]
     },
     "execution_count": 5,
     "metadata": {},
     "output_type": "execute_result"
    }
   ],
   "source": [
    "import os\n",
    "os.getcwd()"
   ]
  },
  {
   "cell_type": "code",
   "execution_count": 6,
   "metadata": {
    "ExecuteTime": {
     "end_time": "2023-11-14T03:44:35.586603Z",
     "start_time": "2023-11-14T03:44:35.543378Z"
    },
    "id": "hkvjOLWIUk2X"
   },
   "outputs": [],
   "source": [
    "path = os.getcwd()\n",
    "train = pd.read_csv(path + \"/train.csv\")\n",
    "test = pd.read_csv(path + \"/test.csv\",index_col='timestamp', parse_dates=True)\n",
    "ss = pd.read_csv(path + \"/sample_submission.csv\")\n",
    "it = pd.read_csv(path + \"/international_trade.csv\")"
   ]
  },
  {
   "cell_type": "markdown",
   "metadata": {
    "ExecuteTime": {
     "end_time": "2023-11-14T03:45:15.588751Z",
     "start_time": "2023-11-14T03:45:15.586424Z"
    }
   },
   "source": [
    "# Model"
   ]
  },
  {
   "cell_type": "code",
   "execution_count": 7,
   "metadata": {
    "ExecuteTime": {
     "end_time": "2023-11-14T03:47:33.186373Z",
     "start_time": "2023-11-14T03:47:33.148105Z"
    }
   },
   "outputs": [],
   "source": [
    "#쥬혁이님 코드 활용\n",
    "darts_data = train.rename(columns={'timestamp':'ds', 'price(원/kg)':'y'})\n",
    "darts_data = darts_data[['ID','ds','y']]\n",
    "darts_data['ID'] = darts_data['ID'].str.replace(r'_\\d{8}$','', regex=True)"
   ]
  },
  {
   "cell_type": "code",
   "execution_count": 8,
   "metadata": {},
   "outputs": [
    {
     "data": {
      "text/html": [
       "<div>\n",
       "<style scoped>\n",
       "    .dataframe tbody tr th:only-of-type {\n",
       "        vertical-align: middle;\n",
       "    }\n",
       "\n",
       "    .dataframe tbody tr th {\n",
       "        vertical-align: top;\n",
       "    }\n",
       "\n",
       "    .dataframe thead th {\n",
       "        text-align: right;\n",
       "    }\n",
       "</style>\n",
       "<table border=\"1\" class=\"dataframe\">\n",
       "  <thead>\n",
       "    <tr style=\"text-align: right;\">\n",
       "      <th></th>\n",
       "      <th>ID</th>\n",
       "      <th>ds</th>\n",
       "      <th>y</th>\n",
       "    </tr>\n",
       "  </thead>\n",
       "  <tbody>\n",
       "    <tr>\n",
       "      <th>0</th>\n",
       "      <td>TG_A_J</td>\n",
       "      <td>2019-01-01</td>\n",
       "      <td>0.0</td>\n",
       "    </tr>\n",
       "    <tr>\n",
       "      <th>1</th>\n",
       "      <td>TG_A_J</td>\n",
       "      <td>2019-01-02</td>\n",
       "      <td>0.0</td>\n",
       "    </tr>\n",
       "    <tr>\n",
       "      <th>2</th>\n",
       "      <td>TG_A_J</td>\n",
       "      <td>2019-01-03</td>\n",
       "      <td>1728.0</td>\n",
       "    </tr>\n",
       "    <tr>\n",
       "      <th>3</th>\n",
       "      <td>TG_A_J</td>\n",
       "      <td>2019-01-04</td>\n",
       "      <td>1408.0</td>\n",
       "    </tr>\n",
       "    <tr>\n",
       "      <th>4</th>\n",
       "      <td>TG_A_J</td>\n",
       "      <td>2019-01-05</td>\n",
       "      <td>1250.0</td>\n",
       "    </tr>\n",
       "  </tbody>\n",
       "</table>\n",
       "</div>"
      ],
      "text/plain": [
       "       ID          ds       y\n",
       "0  TG_A_J  2019-01-01     0.0\n",
       "1  TG_A_J  2019-01-02     0.0\n",
       "2  TG_A_J  2019-01-03  1728.0\n",
       "3  TG_A_J  2019-01-04  1408.0\n",
       "4  TG_A_J  2019-01-05  1250.0"
      ]
     },
     "execution_count": 8,
     "metadata": {},
     "output_type": "execute_result"
    }
   ],
   "source": [
    "darts_data.head()"
   ]
  },
  {
   "cell_type": "markdown",
   "metadata": {},
   "source": [
    "# Final"
   ]
  },
  {
   "cell_type": "code",
   "execution_count": 9,
   "metadata": {},
   "outputs": [],
   "source": [
    "from darts.timeseries import TimeSeries\n",
    "from darts.models import DLinearModel\n",
    "\n",
    "random_seed = 42\n",
    "np.random.seed(random_seed)"
   ]
  },
  {
   "cell_type": "code",
   "execution_count": 10,
   "metadata": {},
   "outputs": [],
   "source": [
    "code = darts_data['ID'].unique()[1]\n",
    "d = darts_data[darts_data['ID'] == code].reset_index().drop(['ID'], axis=1).sort_values('ds')\n",
    "ts = TimeSeries.from_dataframe(d[['y']].astype('float32'))"
   ]
  },
  {
   "cell_type": "code",
   "execution_count": 14,
   "metadata": {},
   "outputs": [
    {
     "data": {
      "text/html": [
       "<div>\n",
       "<style scoped>\n",
       "    .dataframe tbody tr th:only-of-type {\n",
       "        vertical-align: middle;\n",
       "    }\n",
       "\n",
       "    .dataframe tbody tr th {\n",
       "        vertical-align: top;\n",
       "    }\n",
       "\n",
       "    .dataframe thead th {\n",
       "        text-align: right;\n",
       "    }\n",
       "</style>\n",
       "<table border=\"1\" class=\"dataframe\">\n",
       "  <thead>\n",
       "    <tr style=\"text-align: right;\">\n",
       "      <th></th>\n",
       "      <th>ID</th>\n",
       "      <th>ds</th>\n",
       "      <th>y</th>\n",
       "    </tr>\n",
       "  </thead>\n",
       "  <tbody>\n",
       "    <tr>\n",
       "      <th>0</th>\n",
       "      <td>TG_A_J</td>\n",
       "      <td>2019-01-01</td>\n",
       "      <td>0.0</td>\n",
       "    </tr>\n",
       "    <tr>\n",
       "      <th>1</th>\n",
       "      <td>TG_A_J</td>\n",
       "      <td>2019-01-02</td>\n",
       "      <td>0.0</td>\n",
       "    </tr>\n",
       "    <tr>\n",
       "      <th>2</th>\n",
       "      <td>TG_A_J</td>\n",
       "      <td>2019-01-03</td>\n",
       "      <td>1728.0</td>\n",
       "    </tr>\n",
       "    <tr>\n",
       "      <th>3</th>\n",
       "      <td>TG_A_J</td>\n",
       "      <td>2019-01-04</td>\n",
       "      <td>1408.0</td>\n",
       "    </tr>\n",
       "    <tr>\n",
       "      <th>4</th>\n",
       "      <td>TG_A_J</td>\n",
       "      <td>2019-01-05</td>\n",
       "      <td>1250.0</td>\n",
       "    </tr>\n",
       "    <tr>\n",
       "      <th>...</th>\n",
       "      <td>...</td>\n",
       "      <td>...</td>\n",
       "      <td>...</td>\n",
       "    </tr>\n",
       "    <tr>\n",
       "      <th>59392</th>\n",
       "      <td>RD_F_J</td>\n",
       "      <td>2023-02-27</td>\n",
       "      <td>468.0</td>\n",
       "    </tr>\n",
       "    <tr>\n",
       "      <th>59393</th>\n",
       "      <td>RD_F_J</td>\n",
       "      <td>2023-02-28</td>\n",
       "      <td>531.0</td>\n",
       "    </tr>\n",
       "    <tr>\n",
       "      <th>59394</th>\n",
       "      <td>RD_F_J</td>\n",
       "      <td>2023-03-01</td>\n",
       "      <td>574.0</td>\n",
       "    </tr>\n",
       "    <tr>\n",
       "      <th>59395</th>\n",
       "      <td>RD_F_J</td>\n",
       "      <td>2023-03-02</td>\n",
       "      <td>523.0</td>\n",
       "    </tr>\n",
       "    <tr>\n",
       "      <th>59396</th>\n",
       "      <td>RD_F_J</td>\n",
       "      <td>2023-03-03</td>\n",
       "      <td>529.0</td>\n",
       "    </tr>\n",
       "  </tbody>\n",
       "</table>\n",
       "<p>59397 rows × 3 columns</p>\n",
       "</div>"
      ],
      "text/plain": [
       "           ID          ds       y\n",
       "0      TG_A_J  2019-01-01     0.0\n",
       "1      TG_A_J  2019-01-02     0.0\n",
       "2      TG_A_J  2019-01-03  1728.0\n",
       "3      TG_A_J  2019-01-04  1408.0\n",
       "4      TG_A_J  2019-01-05  1250.0\n",
       "...       ...         ...     ...\n",
       "59392  RD_F_J  2023-02-27   468.0\n",
       "59393  RD_F_J  2023-02-28   531.0\n",
       "59394  RD_F_J  2023-03-01   574.0\n",
       "59395  RD_F_J  2023-03-02   523.0\n",
       "59396  RD_F_J  2023-03-03   529.0\n",
       "\n",
       "[59397 rows x 3 columns]"
      ]
     },
     "execution_count": 14,
     "metadata": {},
     "output_type": "execute_result"
    }
   ],
   "source": [
    "darts_data"
   ]
  },
  {
   "cell_type": "code",
   "execution_count": 11,
   "metadata": {},
   "outputs": [
    {
     "data": {
      "text/html": [
       "<div>\n",
       "<style scoped>\n",
       "    .dataframe tbody tr th:only-of-type {\n",
       "        vertical-align: middle;\n",
       "    }\n",
       "\n",
       "    .dataframe tbody tr th {\n",
       "        vertical-align: top;\n",
       "    }\n",
       "\n",
       "    .dataframe thead th {\n",
       "        text-align: right;\n",
       "    }\n",
       "</style>\n",
       "<table border=\"1\" class=\"dataframe\">\n",
       "  <thead>\n",
       "    <tr style=\"text-align: right;\">\n",
       "      <th></th>\n",
       "      <th>index</th>\n",
       "      <th>ds</th>\n",
       "      <th>y</th>\n",
       "    </tr>\n",
       "    <tr>\n",
       "      <th>time</th>\n",
       "      <th></th>\n",
       "      <th></th>\n",
       "      <th></th>\n",
       "    </tr>\n",
       "  </thead>\n",
       "  <tbody>\n",
       "    <tr>\n",
       "      <th>0</th>\n",
       "      <td>1523</td>\n",
       "      <td>2019-01-01</td>\n",
       "      <td>0.0</td>\n",
       "    </tr>\n",
       "    <tr>\n",
       "      <th>1</th>\n",
       "      <td>1524</td>\n",
       "      <td>2019-01-02</td>\n",
       "      <td>0.0</td>\n",
       "    </tr>\n",
       "    <tr>\n",
       "      <th>2</th>\n",
       "      <td>1525</td>\n",
       "      <td>2019-01-03</td>\n",
       "      <td>2526.0</td>\n",
       "    </tr>\n",
       "    <tr>\n",
       "      <th>3</th>\n",
       "      <td>1526</td>\n",
       "      <td>2019-01-04</td>\n",
       "      <td>2134.0</td>\n",
       "    </tr>\n",
       "    <tr>\n",
       "      <th>4</th>\n",
       "      <td>1527</td>\n",
       "      <td>2019-01-05</td>\n",
       "      <td>2075.0</td>\n",
       "    </tr>\n",
       "    <tr>\n",
       "      <th>...</th>\n",
       "      <td>...</td>\n",
       "      <td>...</td>\n",
       "      <td>...</td>\n",
       "    </tr>\n",
       "    <tr>\n",
       "      <th>1518</th>\n",
       "      <td>3041</td>\n",
       "      <td>2023-02-27</td>\n",
       "      <td>4166.0</td>\n",
       "    </tr>\n",
       "    <tr>\n",
       "      <th>1519</th>\n",
       "      <td>3042</td>\n",
       "      <td>2023-02-28</td>\n",
       "      <td>4009.0</td>\n",
       "    </tr>\n",
       "    <tr>\n",
       "      <th>1520</th>\n",
       "      <td>3043</td>\n",
       "      <td>2023-03-01</td>\n",
       "      <td>4173.0</td>\n",
       "    </tr>\n",
       "    <tr>\n",
       "      <th>1521</th>\n",
       "      <td>3044</td>\n",
       "      <td>2023-03-02</td>\n",
       "      <td>4219.0</td>\n",
       "    </tr>\n",
       "    <tr>\n",
       "      <th>1522</th>\n",
       "      <td>3045</td>\n",
       "      <td>2023-03-03</td>\n",
       "      <td>4089.0</td>\n",
       "    </tr>\n",
       "  </tbody>\n",
       "</table>\n",
       "<p>1523 rows × 3 columns</p>\n",
       "</div>"
      ],
      "text/plain": [
       "      index          ds       y\n",
       "time                           \n",
       "0      1523  2019-01-01     0.0\n",
       "1      1524  2019-01-02     0.0\n",
       "2      1525  2019-01-03  2526.0\n",
       "3      1526  2019-01-04  2134.0\n",
       "4      1527  2019-01-05  2075.0\n",
       "...     ...         ...     ...\n",
       "1518   3041  2023-02-27  4166.0\n",
       "1519   3042  2023-02-28  4009.0\n",
       "1520   3043  2023-03-01  4173.0\n",
       "1521   3044  2023-03-02  4219.0\n",
       "1522   3045  2023-03-03  4089.0\n",
       "\n",
       "[1523 rows x 3 columns]"
      ]
     },
     "execution_count": 11,
     "metadata": {},
     "output_type": "execute_result"
    }
   ],
   "source": [
    "d"
   ]
  },
  {
   "cell_type": "code",
   "execution_count": 1,
   "metadata": {
    "ExecuteTime": {
     "end_time": "2023-11-14T04:09:59.182008Z",
     "start_time": "2023-11-14T04:06:32.502215Z"
    }
   },
   "outputs": [
    {
     "name": "stderr",
     "output_type": "stream",
     "text": [
      "\n",
      "KeyboardInterrupt\n",
      "\n"
     ]
    }
   ],
   "source": [
    "from darts.timeseries import TimeSeries\n",
    "from darts.models import DLinearModel\n",
    "\n",
    "random_seed = 42\n",
    "np.random.seed(random_seed)\n",
    "\n",
    "#쥬혁이님 코드 활용\n",
    "def ph_train(df):\n",
    "    pred_list = []\n",
    "    for code in darts_data['ID'].unique():\n",
    "        d = darts_data[darts_data['ID'] == code].reset_index().drop(['ID'], axis=1).sort_values('ds')\n",
    "\n",
    "        ts = TimeSeries.from_dataframe(d[['y']].astype('float32'))\n",
    "\n",
    "        model = DLinearModel(input_chunk_length=128, output_chunk_length=28, batch_size=256, n_epochs=50)\n",
    "        model.fit(ts)\n",
    "        \n",
    "        future = pd.DataFrame()\n",
    "        future['ds'] = pd.date_range(start='2023-03-04',periods=28,freq='D') #prophet_data['ID'].nunique() = 39\n",
    "        forecast = model.predict(len(future['ds']))\n",
    "        pred_y = forecast.values()\n",
    "        pred_code = [str(code)] * len(pred_y)\n",
    "        for y_val, id_val in zip(pred_y, pred_code):\n",
    "            pred_list.append({'ID':id_val, 'y':y_val})\n",
    "\n",
    "    pred = pd.DataFrame(pred_list)\n",
    "    \n",
    "    return pred\n",
    "\n",
    "pred = ph_train(darts_data)"
   ]
  },
  {
   "cell_type": "code",
   "execution_count": 21,
   "metadata": {},
   "outputs": [
    {
     "data": {
      "text/plain": [
       "0       1\n",
       "1       1\n",
       "2       1\n",
       "3       1\n",
       "4       1\n",
       "       ..\n",
       "1087    1\n",
       "1088    1\n",
       "1089    1\n",
       "1090    1\n",
       "1091    1\n",
       "Name: y, Length: 1092, dtype: int64"
      ]
     },
     "execution_count": 21,
     "metadata": {},
     "output_type": "execute_result"
    }
   ],
   "source": [
    "pred['y'].apply(lambda x: len(x))"
   ]
  },
  {
   "cell_type": "code",
   "execution_count": 23,
   "metadata": {
    "ExecuteTime": {
     "end_time": "2023-11-14T04:13:57.216231Z",
     "start_time": "2023-11-14T04:13:57.208741Z"
    }
   },
   "outputs": [
    {
     "data": {
      "text/plain": [
       "0       2871.312500\n",
       "1       1182.883789\n",
       "2       2571.392578\n",
       "3       2679.567139\n",
       "4       2485.250000\n",
       "           ...     \n",
       "1087     380.496460\n",
       "1088     360.578796\n",
       "1089     390.622070\n",
       "1090     378.975342\n",
       "1091     370.006836\n",
       "Name: y, Length: 1092, dtype: float64"
      ]
     },
     "execution_count": 23,
     "metadata": {},
     "output_type": "execute_result"
    }
   ],
   "source": [
    "pred['y'] = pred['y'].explode().astype(float)\n",
    "pred['y']"
   ]
  },
  {
   "cell_type": "code",
   "execution_count": 24,
   "metadata": {},
   "outputs": [
    {
     "data": {
      "text/plain": [
       "169    -1357.884521\n",
       "171     -191.247253\n",
       "172     -398.636292\n",
       "173      -52.281006\n",
       "176     -886.060791\n",
       "           ...     \n",
       "945      -42.356136\n",
       "947      -41.732437\n",
       "949      -10.884001\n",
       "950     -110.878387\n",
       "1079      -0.216888\n",
       "Name: y, Length: 122, dtype: float64"
      ]
     },
     "execution_count": 24,
     "metadata": {},
     "output_type": "execute_result"
    }
   ],
   "source": [
    "pred['y'][pred['y'] < 0]"
   ]
  },
  {
   "cell_type": "markdown",
   "metadata": {
    "id": "fGz_FZfg0eGo"
   },
   "source": [
    "# submission"
   ]
  },
  {
   "cell_type": "code",
   "execution_count": 15,
   "metadata": {
    "ExecuteTime": {
     "end_time": "2023-11-14T04:14:52.481715Z",
     "start_time": "2023-11-14T04:14:52.458031Z"
    },
    "id": "BPxqV_Yn0jLF"
   },
   "outputs": [],
   "source": [
    "ss.loc[:,'answer'] = pred['y'].clip(0,)\n",
    "path = \"./DLinear_50_epochs.csv\"\n",
    "ss.to_csv(path,index=False)"
   ]
  },
  {
   "cell_type": "code",
   "execution_count": 41,
   "metadata": {
    "colab": {
     "base_uri": "https://localhost:8080/"
    },
    "id": "O7P3COp81WZC",
    "outputId": "bdbf8f57-738e-47de-88da-14ea71b953c9"
   },
   "outputs": [
    {
     "name": "stdout",
     "output_type": "stream",
     "text": [
      "Processing ./dacon_submit_api-0.0.4-py3-none-any.whl\n",
      "Installing collected packages: dacon-submit-api\n",
      "Successfully installed dacon-submit-api-0.0.4\n"
     ]
    }
   ],
   "source": [
    "!pip install dacon_submit_api-0.0.4-py3-none-any.whl"
   ]
  },
  {
   "cell_type": "code",
   "execution_count": 74,
   "metadata": {
    "ExecuteTime": {
     "end_time": "2023-11-14T04:15:03.606666Z",
     "start_time": "2023-11-14T04:15:03.604133Z"
    },
    "id": "GPgk3PIP1Tsy"
   },
   "outputs": [],
   "source": [
    "API = \"API\""
   ]
  },
  {
   "cell_type": "code",
   "execution_count": 75,
   "metadata": {
    "ExecuteTime": {
     "end_time": "2023-11-14T04:15:16.094878Z",
     "start_time": "2023-11-14T04:15:04.425788Z"
    },
    "colab": {
     "base_uri": "https://localhost:8080/"
    },
    "id": "z_WZQfp011Ph",
    "outputId": "8a911398-fdbf-4c1e-f71c-65989574933b"
   },
   "outputs": [
    {
     "name": "stdout",
     "output_type": "stream",
     "text": [
      "{'isSubmitted': True, 'detail': 'Success'}\n"
     ]
    }
   ],
   "source": [
    "from dacon_submit_api import dacon_submit_api\n",
    "\n",
    "result = dacon_submit_api.post_submission_file(\n",
    "path, API,\n",
    "'236176',\n",
    "'NAMJIN',\n",
    "path)"
   ]
  }
 ],
 "metadata": {
  "accelerator": "GPU",
  "colab": {
   "collapsed_sections": [
    "KI6ZXe67UWM7",
    "pDariu2wYJBU",
    "P-3fnD-FIY8i",
    "WEF7tyq5Rhyf",
    "5xV0QK_eW9aP"
   ],
   "gpuType": "T4",
   "provenance": []
  },
  "kernelspec": {
   "display_name": "Python 3 (ipykernel)",
   "language": "python",
   "name": "python3"
  },
  "language_info": {
   "codemirror_mode": {
    "name": "ipython",
    "version": 3
   },
   "file_extension": ".py",
   "mimetype": "text/x-python",
   "name": "python",
   "nbconvert_exporter": "python",
   "pygments_lexer": "ipython3",
   "version": "3.9.16"
  },
  "toc": {
   "base_numbering": 1,
   "nav_menu": {},
   "number_sections": true,
   "sideBar": true,
   "skip_h1_title": false,
   "title_cell": "Table of Contents",
   "title_sidebar": "Contents",
   "toc_cell": false,
   "toc_position": {},
   "toc_section_display": true,
   "toc_window_display": false
  }
 },
 "nbformat": 4,
 "nbformat_minor": 1
}
