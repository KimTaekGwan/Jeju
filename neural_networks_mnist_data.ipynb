{
  "nbformat": 4,
  "nbformat_minor": 0,
  "metadata": {
    "colab": {
      "provenance": []
    },
    "kernelspec": {
      "name": "python3",
      "display_name": "Python 3"
    },
    "language_info": {
      "name": "python"
    }
  },
  "cells": [
    {
      "cell_type": "markdown",
      "source": [
        "# 1. Libraries\n",
        "First, let's import the necessary libraries and dependencies:"
      ],
      "metadata": {
        "id": "Xs1dEIZZcQfs"
      }
    },
    {
      "cell_type": "code",
      "execution_count": 2,
      "metadata": {
        "id": "ujGbU1X9Z4O5"
      },
      "outputs": [],
      "source": [
        "import numpy as np\n",
        "import matplotlib.pyplot as plt\n",
        "\n",
        "import tensorflow as tf\n",
        "from tensorflow.keras.datasets import mnist     # to load MNIST data\n",
        "from tensorflow.keras.models import Sequential  # to create a neural network\n",
        "from tensorflow.keras.layers import Dense       # to adding layers\n",
        "from tensorflow.keras.optimizers import SGD     # to optimize via gradient descent"
      ]
    },
    {
      "cell_type": "code",
      "source": [
        "# [Runtime] -> [Change Runtime Type] -> Hardware Accelerator -> Choose a GPU\n",
        "tf.config.list_physical_devices('GPU')"
      ],
      "metadata": {
        "id": "0dv2nbzgrsmj",
        "outputId": "fe37999d-9148-42d4-8598-df0808228a03",
        "colab": {
          "base_uri": "https://localhost:8080/"
        }
      },
      "execution_count": 4,
      "outputs": [
        {
          "output_type": "execute_result",
          "data": {
            "text/plain": [
              "[]"
            ]
          },
          "metadata": {},
          "execution_count": 4
        }
      ]
    },
    {
      "cell_type": "markdown",
      "source": [
        "<img src='https://miro.medium.com/v2/resize:fit:1400/0*T6W0rRy8vgFU_K7Z.png'>"
      ],
      "metadata": {
        "id": "G2icDA8fna6n"
      }
    },
    {
      "cell_type": "markdown",
      "source": [
        "# 2. Loading and Preprocessing the Data\n",
        "- Next, we'll load the [MNIST](https://en.wikipedia.org/wiki/MNIST_database) dataset and preprocess it.\n",
        "- MNIST is a commonly used dataset for handwritten digit recognition.\n",
        "- It consists of a training set of 60,000 examples and a test set of 10,000 examples.\n",
        "- Each example is a 28 x 28 grayscale image of a handwritten digit, along with its corresponding label (0 to 9).\n",
        "- We'll reshape the input data, convert it ot floating-point numbers, and scale the pixel values between 0 and 1:"
      ],
      "metadata": {
        "id": "jEKzp6c5cdBt"
      }
    },
    {
      "cell_type": "markdown",
      "source": [
        "<img src='https://www.mdpi.com/applsci/applsci-09-03169/article_deploy/html/images/applsci-09-03169-g001.png'>"
      ],
      "metadata": {
        "id": "3HKxur6ziWQW"
      }
    },
    {
      "cell_type": "code",
      "source": [
        "# Load the MNIST dataset (MNIST 데이터 불러오기)\n",
        "(X_train, y_train), (X_test, y_test) = mnist.load_data()\n",
        "\n",
        "# Print the dimension of the data (데이터 차원 확인하기)\n",
        "print('X_train shape:', X_train.shape)  # (Num. train, height, width)\n",
        "print('X_test shape:', X_test.shape)    # (Num. train,  )\n",
        "print('y_train shape:', y_train.shape)  # (Num. test, height, width)\n",
        "print('y_test shape:', y_test.shape)    # (Num. test,   )"
      ],
      "metadata": {
        "colab": {
          "base_uri": "https://localhost:8080/"
        },
        "id": "ae83tjFIaH-s",
        "outputId": "beb2d54d-4be6-4e3d-fccb-4331fde2804b"
      },
      "execution_count": 5,
      "outputs": [
        {
          "output_type": "stream",
          "name": "stdout",
          "text": [
            "Downloading data from https://storage.googleapis.com/tensorflow/tf-keras-datasets/mnist.npz\n",
            "11490434/11490434 [==============================] - 0s 0us/step\n",
            "X_train shape: (60000, 28, 28)\n",
            "X_test shape: (10000, 28, 28)\n",
            "y_train shape: (60000,)\n",
            "y_test shape: (10000,)\n"
          ]
        }
      ]
    },
    {
      "cell_type": "code",
      "source": [
        "# Preprocess the data (데이터 전처리)\n",
        "# Reshape the input data to a 1D array with 784 features (28 x 28 -> 784)\n",
        "X_train = X_train.reshape((60000, 784))\n",
        "X_test = X_test.reshape((10000, 784))\n",
        "\n",
        "# Print the dimension of the data (데이터 차원 확인하기)\n",
        "print('X_train shape:', X_train.shape)\n",
        "print('X_test shape:', X_test.shape)\n",
        "print('y_train shape:', y_train.shape)\n",
        "print('y_test shape:', y_test.shape)"
      ],
      "metadata": {
        "colab": {
          "base_uri": "https://localhost:8080/"
        },
        "id": "FY-9tdqFkczk",
        "outputId": "8856e0ed-0f2a-4f3e-8be5-ba2981c4042a"
      },
      "execution_count": 6,
      "outputs": [
        {
          "output_type": "stream",
          "name": "stdout",
          "text": [
            "X_train shape: (60000, 784)\n",
            "X_test shape: (10000, 784)\n",
            "y_train shape: (60000,)\n",
            "y_test shape: (10000,)\n"
          ]
        }
      ]
    },
    {
      "cell_type": "code",
      "source": [
        "# Before normalization, the pixels of an image range from 0 to 255\n",
        "X_train[0]"
      ],
      "metadata": {
        "colab": {
          "base_uri": "https://localhost:8080/"
        },
        "id": "cNND0tDskiel",
        "outputId": "2c9b9ca5-b351-4398-bdeb-43d7cd4e7f61"
      },
      "execution_count": 7,
      "outputs": [
        {
          "output_type": "execute_result",
          "data": {
            "text/plain": [
              "array([  0,   0,   0,   0,   0,   0,   0,   0,   0,   0,   0,   0,   0,\n",
              "         0,   0,   0,   0,   0,   0,   0,   0,   0,   0,   0,   0,   0,\n",
              "         0,   0,   0,   0,   0,   0,   0,   0,   0,   0,   0,   0,   0,\n",
              "         0,   0,   0,   0,   0,   0,   0,   0,   0,   0,   0,   0,   0,\n",
              "         0,   0,   0,   0,   0,   0,   0,   0,   0,   0,   0,   0,   0,\n",
              "         0,   0,   0,   0,   0,   0,   0,   0,   0,   0,   0,   0,   0,\n",
              "         0,   0,   0,   0,   0,   0,   0,   0,   0,   0,   0,   0,   0,\n",
              "         0,   0,   0,   0,   0,   0,   0,   0,   0,   0,   0,   0,   0,\n",
              "         0,   0,   0,   0,   0,   0,   0,   0,   0,   0,   0,   0,   0,\n",
              "         0,   0,   0,   0,   0,   0,   0,   0,   0,   0,   0,   0,   0,\n",
              "         0,   0,   0,   0,   0,   0,   0,   0,   0,   0,   0,   0,   0,\n",
              "         0,   0,   0,   0,   0,   0,   0,   0,   0,   3,  18,  18,  18,\n",
              "       126, 136, 175,  26, 166, 255, 247, 127,   0,   0,   0,   0,   0,\n",
              "         0,   0,   0,   0,   0,   0,   0,  30,  36,  94, 154, 170, 253,\n",
              "       253, 253, 253, 253, 225, 172, 253, 242, 195,  64,   0,   0,   0,\n",
              "         0,   0,   0,   0,   0,   0,   0,   0,  49, 238, 253, 253, 253,\n",
              "       253, 253, 253, 253, 253, 251,  93,  82,  82,  56,  39,   0,   0,\n",
              "         0,   0,   0,   0,   0,   0,   0,   0,   0,   0,  18, 219, 253,\n",
              "       253, 253, 253, 253, 198, 182, 247, 241,   0,   0,   0,   0,   0,\n",
              "         0,   0,   0,   0,   0,   0,   0,   0,   0,   0,   0,   0,   0,\n",
              "        80, 156, 107, 253, 253, 205,  11,   0,  43, 154,   0,   0,   0,\n",
              "         0,   0,   0,   0,   0,   0,   0,   0,   0,   0,   0,   0,   0,\n",
              "         0,   0,   0,  14,   1, 154, 253,  90,   0,   0,   0,   0,   0,\n",
              "         0,   0,   0,   0,   0,   0,   0,   0,   0,   0,   0,   0,   0,\n",
              "         0,   0,   0,   0,   0,   0,   0, 139, 253, 190,   2,   0,   0,\n",
              "         0,   0,   0,   0,   0,   0,   0,   0,   0,   0,   0,   0,   0,\n",
              "         0,   0,   0,   0,   0,   0,   0,   0,   0,  11, 190, 253,  70,\n",
              "         0,   0,   0,   0,   0,   0,   0,   0,   0,   0,   0,   0,   0,\n",
              "         0,   0,   0,   0,   0,   0,   0,   0,   0,   0,   0,   0,  35,\n",
              "       241, 225, 160, 108,   1,   0,   0,   0,   0,   0,   0,   0,   0,\n",
              "         0,   0,   0,   0,   0,   0,   0,   0,   0,   0,   0,   0,   0,\n",
              "         0,   0,  81, 240, 253, 253, 119,  25,   0,   0,   0,   0,   0,\n",
              "         0,   0,   0,   0,   0,   0,   0,   0,   0,   0,   0,   0,   0,\n",
              "         0,   0,   0,   0,   0,  45, 186, 253, 253, 150,  27,   0,   0,\n",
              "         0,   0,   0,   0,   0,   0,   0,   0,   0,   0,   0,   0,   0,\n",
              "         0,   0,   0,   0,   0,   0,   0,   0,  16,  93, 252, 253, 187,\n",
              "         0,   0,   0,   0,   0,   0,   0,   0,   0,   0,   0,   0,   0,\n",
              "         0,   0,   0,   0,   0,   0,   0,   0,   0,   0,   0,   0, 249,\n",
              "       253, 249,  64,   0,   0,   0,   0,   0,   0,   0,   0,   0,   0,\n",
              "         0,   0,   0,   0,   0,   0,   0,   0,   0,   0,   0,  46, 130,\n",
              "       183, 253, 253, 207,   2,   0,   0,   0,   0,   0,   0,   0,   0,\n",
              "         0,   0,   0,   0,   0,   0,   0,   0,   0,   0,   0,  39, 148,\n",
              "       229, 253, 253, 253, 250, 182,   0,   0,   0,   0,   0,   0,   0,\n",
              "         0,   0,   0,   0,   0,   0,   0,   0,   0,   0,   0,  24, 114,\n",
              "       221, 253, 253, 253, 253, 201,  78,   0,   0,   0,   0,   0,   0,\n",
              "         0,   0,   0,   0,   0,   0,   0,   0,   0,   0,   0,  23,  66,\n",
              "       213, 253, 253, 253, 253, 198,  81,   2,   0,   0,   0,   0,   0,\n",
              "         0,   0,   0,   0,   0,   0,   0,   0,   0,   0,   0,  18, 171,\n",
              "       219, 253, 253, 253, 253, 195,  80,   9,   0,   0,   0,   0,   0,\n",
              "         0,   0,   0,   0,   0,   0,   0,   0,   0,   0,   0,  55, 172,\n",
              "       226, 253, 253, 253, 253, 244, 133,  11,   0,   0,   0,   0,   0,\n",
              "         0,   0,   0,   0,   0,   0,   0,   0,   0,   0,   0,   0,   0,\n",
              "       136, 253, 253, 253, 212, 135, 132,  16,   0,   0,   0,   0,   0,\n",
              "         0,   0,   0,   0,   0,   0,   0,   0,   0,   0,   0,   0,   0,\n",
              "         0,   0,   0,   0,   0,   0,   0,   0,   0,   0,   0,   0,   0,\n",
              "         0,   0,   0,   0,   0,   0,   0,   0,   0,   0,   0,   0,   0,\n",
              "         0,   0,   0,   0,   0,   0,   0,   0,   0,   0,   0,   0,   0,\n",
              "         0,   0,   0,   0,   0,   0,   0,   0,   0,   0,   0,   0,   0,\n",
              "         0,   0,   0,   0,   0,   0,   0,   0,   0,   0,   0,   0,   0,\n",
              "         0,   0,   0,   0,   0,   0,   0,   0,   0,   0,   0,   0,   0,\n",
              "         0,   0,   0,   0], dtype=uint8)"
            ]
          },
          "metadata": {},
          "execution_count": 7
        }
      ]
    },
    {
      "cell_type": "code",
      "source": [
        "# Convert the data type to float32 and scale the values between 0 and 1\n",
        "# (Float 자료형으로 변환 후 0과 1 사이의 값을 갖도록 변환)\n",
        "X_train = X_train.astype('float32') / 255\n",
        "X_test = X_test.astype('float32') / 255"
      ],
      "metadata": {
        "id": "zg6gyWFIke0b"
      },
      "execution_count": 8,
      "outputs": []
    },
    {
      "cell_type": "code",
      "source": [
        "# Now, the pixel values should be in the range of (0, 1)\n",
        "X_train[0]"
      ],
      "metadata": {
        "colab": {
          "base_uri": "https://localhost:8080/"
        },
        "id": "h4bzAT9ekzHS",
        "outputId": "fd5711a9-5dda-468d-e284-c6ceee2e58cf"
      },
      "execution_count": 9,
      "outputs": [
        {
          "output_type": "execute_result",
          "data": {
            "text/plain": [
              "array([0.        , 0.        , 0.        , 0.        , 0.        ,\n",
              "       0.        , 0.        , 0.        , 0.        , 0.        ,\n",
              "       0.        , 0.        , 0.        , 0.        , 0.        ,\n",
              "       0.        , 0.        , 0.        , 0.        , 0.        ,\n",
              "       0.        , 0.        , 0.        , 0.        , 0.        ,\n",
              "       0.        , 0.        , 0.        , 0.        , 0.        ,\n",
              "       0.        , 0.        , 0.        , 0.        , 0.        ,\n",
              "       0.        , 0.        , 0.        , 0.        , 0.        ,\n",
              "       0.        , 0.        , 0.        , 0.        , 0.        ,\n",
              "       0.        , 0.        , 0.        , 0.        , 0.        ,\n",
              "       0.        , 0.        , 0.        , 0.        , 0.        ,\n",
              "       0.        , 0.        , 0.        , 0.        , 0.        ,\n",
              "       0.        , 0.        , 0.        , 0.        , 0.        ,\n",
              "       0.        , 0.        , 0.        , 0.        , 0.        ,\n",
              "       0.        , 0.        , 0.        , 0.        , 0.        ,\n",
              "       0.        , 0.        , 0.        , 0.        , 0.        ,\n",
              "       0.        , 0.        , 0.        , 0.        , 0.        ,\n",
              "       0.        , 0.        , 0.        , 0.        , 0.        ,\n",
              "       0.        , 0.        , 0.        , 0.        , 0.        ,\n",
              "       0.        , 0.        , 0.        , 0.        , 0.        ,\n",
              "       0.        , 0.        , 0.        , 0.        , 0.        ,\n",
              "       0.        , 0.        , 0.        , 0.        , 0.        ,\n",
              "       0.        , 0.        , 0.        , 0.        , 0.        ,\n",
              "       0.        , 0.        , 0.        , 0.        , 0.        ,\n",
              "       0.        , 0.        , 0.        , 0.        , 0.        ,\n",
              "       0.        , 0.        , 0.        , 0.        , 0.        ,\n",
              "       0.        , 0.        , 0.        , 0.        , 0.        ,\n",
              "       0.        , 0.        , 0.        , 0.        , 0.        ,\n",
              "       0.        , 0.        , 0.        , 0.        , 0.        ,\n",
              "       0.        , 0.        , 0.        , 0.        , 0.        ,\n",
              "       0.        , 0.        , 0.01176471, 0.07058824, 0.07058824,\n",
              "       0.07058824, 0.49411765, 0.53333336, 0.6862745 , 0.10196079,\n",
              "       0.6509804 , 1.        , 0.96862745, 0.49803922, 0.        ,\n",
              "       0.        , 0.        , 0.        , 0.        , 0.        ,\n",
              "       0.        , 0.        , 0.        , 0.        , 0.        ,\n",
              "       0.        , 0.11764706, 0.14117648, 0.36862746, 0.6039216 ,\n",
              "       0.6666667 , 0.99215686, 0.99215686, 0.99215686, 0.99215686,\n",
              "       0.99215686, 0.88235295, 0.6745098 , 0.99215686, 0.9490196 ,\n",
              "       0.7647059 , 0.2509804 , 0.        , 0.        , 0.        ,\n",
              "       0.        , 0.        , 0.        , 0.        , 0.        ,\n",
              "       0.        , 0.        , 0.        , 0.19215687, 0.93333334,\n",
              "       0.99215686, 0.99215686, 0.99215686, 0.99215686, 0.99215686,\n",
              "       0.99215686, 0.99215686, 0.99215686, 0.9843137 , 0.3647059 ,\n",
              "       0.32156864, 0.32156864, 0.21960784, 0.15294118, 0.        ,\n",
              "       0.        , 0.        , 0.        , 0.        , 0.        ,\n",
              "       0.        , 0.        , 0.        , 0.        , 0.        ,\n",
              "       0.        , 0.07058824, 0.85882354, 0.99215686, 0.99215686,\n",
              "       0.99215686, 0.99215686, 0.99215686, 0.7764706 , 0.7137255 ,\n",
              "       0.96862745, 0.94509804, 0.        , 0.        , 0.        ,\n",
              "       0.        , 0.        , 0.        , 0.        , 0.        ,\n",
              "       0.        , 0.        , 0.        , 0.        , 0.        ,\n",
              "       0.        , 0.        , 0.        , 0.        , 0.        ,\n",
              "       0.3137255 , 0.6117647 , 0.41960785, 0.99215686, 0.99215686,\n",
              "       0.8039216 , 0.04313726, 0.        , 0.16862746, 0.6039216 ,\n",
              "       0.        , 0.        , 0.        , 0.        , 0.        ,\n",
              "       0.        , 0.        , 0.        , 0.        , 0.        ,\n",
              "       0.        , 0.        , 0.        , 0.        , 0.        ,\n",
              "       0.        , 0.        , 0.        , 0.        , 0.05490196,\n",
              "       0.00392157, 0.6039216 , 0.99215686, 0.3529412 , 0.        ,\n",
              "       0.        , 0.        , 0.        , 0.        , 0.        ,\n",
              "       0.        , 0.        , 0.        , 0.        , 0.        ,\n",
              "       0.        , 0.        , 0.        , 0.        , 0.        ,\n",
              "       0.        , 0.        , 0.        , 0.        , 0.        ,\n",
              "       0.        , 0.        , 0.        , 0.        , 0.54509807,\n",
              "       0.99215686, 0.74509805, 0.00784314, 0.        , 0.        ,\n",
              "       0.        , 0.        , 0.        , 0.        , 0.        ,\n",
              "       0.        , 0.        , 0.        , 0.        , 0.        ,\n",
              "       0.        , 0.        , 0.        , 0.        , 0.        ,\n",
              "       0.        , 0.        , 0.        , 0.        , 0.        ,\n",
              "       0.        , 0.        , 0.04313726, 0.74509805, 0.99215686,\n",
              "       0.27450982, 0.        , 0.        , 0.        , 0.        ,\n",
              "       0.        , 0.        , 0.        , 0.        , 0.        ,\n",
              "       0.        , 0.        , 0.        , 0.        , 0.        ,\n",
              "       0.        , 0.        , 0.        , 0.        , 0.        ,\n",
              "       0.        , 0.        , 0.        , 0.        , 0.        ,\n",
              "       0.        , 0.13725491, 0.94509804, 0.88235295, 0.627451  ,\n",
              "       0.42352942, 0.00392157, 0.        , 0.        , 0.        ,\n",
              "       0.        , 0.        , 0.        , 0.        , 0.        ,\n",
              "       0.        , 0.        , 0.        , 0.        , 0.        ,\n",
              "       0.        , 0.        , 0.        , 0.        , 0.        ,\n",
              "       0.        , 0.        , 0.        , 0.        , 0.        ,\n",
              "       0.31764707, 0.9411765 , 0.99215686, 0.99215686, 0.46666667,\n",
              "       0.09803922, 0.        , 0.        , 0.        , 0.        ,\n",
              "       0.        , 0.        , 0.        , 0.        , 0.        ,\n",
              "       0.        , 0.        , 0.        , 0.        , 0.        ,\n",
              "       0.        , 0.        , 0.        , 0.        , 0.        ,\n",
              "       0.        , 0.        , 0.        , 0.        , 0.1764706 ,\n",
              "       0.7294118 , 0.99215686, 0.99215686, 0.5882353 , 0.10588235,\n",
              "       0.        , 0.        , 0.        , 0.        , 0.        ,\n",
              "       0.        , 0.        , 0.        , 0.        , 0.        ,\n",
              "       0.        , 0.        , 0.        , 0.        , 0.        ,\n",
              "       0.        , 0.        , 0.        , 0.        , 0.        ,\n",
              "       0.        , 0.        , 0.        , 0.0627451 , 0.3647059 ,\n",
              "       0.9882353 , 0.99215686, 0.73333335, 0.        , 0.        ,\n",
              "       0.        , 0.        , 0.        , 0.        , 0.        ,\n",
              "       0.        , 0.        , 0.        , 0.        , 0.        ,\n",
              "       0.        , 0.        , 0.        , 0.        , 0.        ,\n",
              "       0.        , 0.        , 0.        , 0.        , 0.        ,\n",
              "       0.        , 0.        , 0.        , 0.9764706 , 0.99215686,\n",
              "       0.9764706 , 0.2509804 , 0.        , 0.        , 0.        ,\n",
              "       0.        , 0.        , 0.        , 0.        , 0.        ,\n",
              "       0.        , 0.        , 0.        , 0.        , 0.        ,\n",
              "       0.        , 0.        , 0.        , 0.        , 0.        ,\n",
              "       0.        , 0.        , 0.        , 0.18039216, 0.50980395,\n",
              "       0.7176471 , 0.99215686, 0.99215686, 0.8117647 , 0.00784314,\n",
              "       0.        , 0.        , 0.        , 0.        , 0.        ,\n",
              "       0.        , 0.        , 0.        , 0.        , 0.        ,\n",
              "       0.        , 0.        , 0.        , 0.        , 0.        ,\n",
              "       0.        , 0.        , 0.        , 0.        , 0.15294118,\n",
              "       0.5803922 , 0.8980392 , 0.99215686, 0.99215686, 0.99215686,\n",
              "       0.98039216, 0.7137255 , 0.        , 0.        , 0.        ,\n",
              "       0.        , 0.        , 0.        , 0.        , 0.        ,\n",
              "       0.        , 0.        , 0.        , 0.        , 0.        ,\n",
              "       0.        , 0.        , 0.        , 0.        , 0.        ,\n",
              "       0.09411765, 0.44705883, 0.8666667 , 0.99215686, 0.99215686,\n",
              "       0.99215686, 0.99215686, 0.7882353 , 0.30588236, 0.        ,\n",
              "       0.        , 0.        , 0.        , 0.        , 0.        ,\n",
              "       0.        , 0.        , 0.        , 0.        , 0.        ,\n",
              "       0.        , 0.        , 0.        , 0.        , 0.        ,\n",
              "       0.        , 0.09019608, 0.25882354, 0.8352941 , 0.99215686,\n",
              "       0.99215686, 0.99215686, 0.99215686, 0.7764706 , 0.31764707,\n",
              "       0.00784314, 0.        , 0.        , 0.        , 0.        ,\n",
              "       0.        , 0.        , 0.        , 0.        , 0.        ,\n",
              "       0.        , 0.        , 0.        , 0.        , 0.        ,\n",
              "       0.        , 0.        , 0.07058824, 0.67058825, 0.85882354,\n",
              "       0.99215686, 0.99215686, 0.99215686, 0.99215686, 0.7647059 ,\n",
              "       0.3137255 , 0.03529412, 0.        , 0.        , 0.        ,\n",
              "       0.        , 0.        , 0.        , 0.        , 0.        ,\n",
              "       0.        , 0.        , 0.        , 0.        , 0.        ,\n",
              "       0.        , 0.        , 0.        , 0.21568628, 0.6745098 ,\n",
              "       0.8862745 , 0.99215686, 0.99215686, 0.99215686, 0.99215686,\n",
              "       0.95686275, 0.52156866, 0.04313726, 0.        , 0.        ,\n",
              "       0.        , 0.        , 0.        , 0.        , 0.        ,\n",
              "       0.        , 0.        , 0.        , 0.        , 0.        ,\n",
              "       0.        , 0.        , 0.        , 0.        , 0.        ,\n",
              "       0.        , 0.53333336, 0.99215686, 0.99215686, 0.99215686,\n",
              "       0.83137256, 0.5294118 , 0.5176471 , 0.0627451 , 0.        ,\n",
              "       0.        , 0.        , 0.        , 0.        , 0.        ,\n",
              "       0.        , 0.        , 0.        , 0.        , 0.        ,\n",
              "       0.        , 0.        , 0.        , 0.        , 0.        ,\n",
              "       0.        , 0.        , 0.        , 0.        , 0.        ,\n",
              "       0.        , 0.        , 0.        , 0.        , 0.        ,\n",
              "       0.        , 0.        , 0.        , 0.        , 0.        ,\n",
              "       0.        , 0.        , 0.        , 0.        , 0.        ,\n",
              "       0.        , 0.        , 0.        , 0.        , 0.        ,\n",
              "       0.        , 0.        , 0.        , 0.        , 0.        ,\n",
              "       0.        , 0.        , 0.        , 0.        , 0.        ,\n",
              "       0.        , 0.        , 0.        , 0.        , 0.        ,\n",
              "       0.        , 0.        , 0.        , 0.        , 0.        ,\n",
              "       0.        , 0.        , 0.        , 0.        , 0.        ,\n",
              "       0.        , 0.        , 0.        , 0.        , 0.        ,\n",
              "       0.        , 0.        , 0.        , 0.        , 0.        ,\n",
              "       0.        , 0.        , 0.        , 0.        , 0.        ,\n",
              "       0.        , 0.        , 0.        , 0.        , 0.        ,\n",
              "       0.        , 0.        , 0.        , 0.        , 0.        ,\n",
              "       0.        , 0.        , 0.        , 0.        , 0.        ,\n",
              "       0.        , 0.        , 0.        , 0.        ], dtype=float32)"
            ]
          },
          "metadata": {},
          "execution_count": 9
        }
      ]
    },
    {
      "cell_type": "markdown",
      "source": [
        "# 3. Building the Neural Network Model\n",
        "- Now, we'll define and build our neural network model using Keras implemented in Tensorflow.\n",
        "- The input layer has 784 units.\n",
        "- The hidden layer has 512 units, with a ReLU activation function.\n",
        "- The output layer should have 10 units, because we are doing a 10-class classification task!\n",
        "- We will use Stochastic Gradient Descent (SGD) algorithm to optimize the model parameters (i.e., weights and biases)."
      ],
      "metadata": {
        "id": "MuX-_2DIkJYp"
      }
    },
    {
      "cell_type": "code",
      "source": [
        "# Define a neural network with one hidden layer\n",
        "model = Sequential()\n",
        "model.add(Dense(512, activation='relu', input_shape=(784, )))\n",
        "model.add(Dense(10, activation='softmax'))\n",
        "\n",
        "# Define optimization method (모델 최적화 방법)\n",
        "# SGD = Stochastic Gradient Descent\n",
        "optimizer = SGD(learning_rate=0.01,  # TODO: try different values\n",
        "                weight_decay=0.0,    # TODO: try different values\n",
        "                momentum=0.0,        # TODO: try 0.9\n",
        "                )\n",
        "\n",
        "# Compile the model (모델 컴파일)\n",
        "model.compile(\n",
        "    optimizer=optimizer,                     # SGD 사용\n",
        "    loss='sparse_categorical_crossentropy',  # 손실함수 정의\n",
        "    metrics=['accuracy']                     # 평가용 metric 추가\n",
        ")\n",
        "\n",
        "# Print the model summary\n",
        "model.summary()"
      ],
      "metadata": {
        "colab": {
          "base_uri": "https://localhost:8080/"
        },
        "id": "XT-_17YwaSXs",
        "outputId": "aad368b9-4ebd-4d74-db09-4f5c091fcd9f"
      },
      "execution_count": 10,
      "outputs": [
        {
          "output_type": "stream",
          "name": "stdout",
          "text": [
            "Model: \"sequential\"\n",
            "_________________________________________________________________\n",
            " Layer (type)                Output Shape              Param #   \n",
            "=================================================================\n",
            " dense (Dense)               (None, 512)               401920    \n",
            "                                                                 \n",
            " dense_1 (Dense)             (None, 10)                5130      \n",
            "                                                                 \n",
            "=================================================================\n",
            "Total params: 407050 (1.55 MB)\n",
            "Trainable params: 407050 (1.55 MB)\n",
            "Non-trainable params: 0 (0.00 Byte)\n",
            "_________________________________________________________________\n"
          ]
        }
      ]
    },
    {
      "cell_type": "markdown",
      "source": [
        "# 4. Model Training\n",
        "- During training, the model will learn to recognize patterns and features in the input images and associate them with the corresponding labels:"
      ],
      "metadata": {
        "id": "TnvqtSiCn_Md"
      }
    },
    {
      "cell_type": "code",
      "source": [
        "# Train the model\n",
        "history = model.fit(X_train, y_train,\n",
        "                    epochs=10,             # 모델이 학습 데이터 전체를 보는 횟수\n",
        "                    batch_size=128,        # 모델이 1회 업데이트 시 처리하는 관측치 수\n",
        "                    validation_split=0.1,  # 전체의 10%를 validation 용도로 사용\n",
        "                    )"
      ],
      "metadata": {
        "colab": {
          "base_uri": "https://localhost:8080/"
        },
        "id": "2J7PIyM-abph",
        "outputId": "d37c4c24-5d46-4d39-800f-01db2f6a0a75"
      },
      "execution_count": 11,
      "outputs": [
        {
          "output_type": "stream",
          "name": "stdout",
          "text": [
            "Epoch 1/10\n",
            "422/422 [==============================] - 5s 11ms/step - loss: 1.1599 - accuracy: 0.7395 - val_loss: 0.5922 - val_accuracy: 0.8833\n",
            "Epoch 2/10\n",
            "422/422 [==============================] - 3s 8ms/step - loss: 0.5577 - accuracy: 0.8655 - val_loss: 0.4070 - val_accuracy: 0.9032\n",
            "Epoch 3/10\n",
            "422/422 [==============================] - 3s 7ms/step - loss: 0.4451 - accuracy: 0.8840 - val_loss: 0.3425 - val_accuracy: 0.9140\n",
            "Epoch 4/10\n",
            "422/422 [==============================] - 3s 7ms/step - loss: 0.3944 - accuracy: 0.8933 - val_loss: 0.3096 - val_accuracy: 0.9190\n",
            "Epoch 5/10\n",
            "422/422 [==============================] - 4s 9ms/step - loss: 0.3638 - accuracy: 0.8999 - val_loss: 0.2886 - val_accuracy: 0.9217\n",
            "Epoch 6/10\n",
            "422/422 [==============================] - 4s 9ms/step - loss: 0.3423 - accuracy: 0.9051 - val_loss: 0.2722 - val_accuracy: 0.9270\n",
            "Epoch 7/10\n",
            "422/422 [==============================] - 3s 7ms/step - loss: 0.3256 - accuracy: 0.9094 - val_loss: 0.2597 - val_accuracy: 0.9287\n",
            "Epoch 8/10\n",
            "422/422 [==============================] - 3s 7ms/step - loss: 0.3119 - accuracy: 0.9134 - val_loss: 0.2500 - val_accuracy: 0.9308\n",
            "Epoch 9/10\n",
            "422/422 [==============================] - 3s 8ms/step - loss: 0.3006 - accuracy: 0.9163 - val_loss: 0.2417 - val_accuracy: 0.9330\n",
            "Epoch 10/10\n",
            "422/422 [==============================] - 4s 10ms/step - loss: 0.2906 - accuracy: 0.9192 - val_loss: 0.2343 - val_accuracy: 0.9348\n"
          ]
        }
      ]
    },
    {
      "cell_type": "markdown",
      "source": [
        "# 5. Evaluating the Model\n",
        "- After training, we can evaluate the performance of our neural network on the test set.\n",
        "- The model's accuracy and loss on the test set provide insights into its generalization ability."
      ],
      "metadata": {
        "id": "Q8Q532hToV7F"
      }
    },
    {
      "cell_type": "code",
      "source": [
        "# Evaluate the model on the test set (테스트 데이터에 대한 예측 결과 평가하기)\n",
        "test_loss, test_acc = model.evaluate(X_test, y_test)\n",
        "print('Test loss     : %.4f' % test_loss)\n",
        "print('Test accuracy : %.4f' % test_acc)"
      ],
      "metadata": {
        "colab": {
          "base_uri": "https://localhost:8080/"
        },
        "id": "4QvI0OGsafwr",
        "outputId": "4388d462-7cf0-48ea-da07-e8d309e93e37"
      },
      "execution_count": 12,
      "outputs": [
        {
          "output_type": "stream",
          "name": "stdout",
          "text": [
            "313/313 [==============================] - 1s 3ms/step - loss: 0.2708 - accuracy: 0.9250\n",
            "Test loss     : 0.2708\n",
            "Test accuracy : 0.9250\n"
          ]
        }
      ]
    },
    {
      "cell_type": "markdown",
      "source": [
        "# 6. Visualizing the Training Trajectory\n",
        "- We can also visualize the training history to gain insights into the model's performance.\n",
        "- The accuracy and loss curves show how the model's performance changes over the training epochs:"
      ],
      "metadata": {
        "id": "LgoZ6ln4ouVA"
      }
    },
    {
      "cell_type": "code",
      "source": [
        "# Plot the training accuracy and loss\n",
        "plt.figure(figsize=(8, 4))\n",
        "plt.subplot(1, 2, 1)\n",
        "plt.plot(history.history['accuracy'], label='Training Accuracy')\n",
        "plt.plot(history.history['val_accuracy'], label='Validation Accuracy')\n",
        "#plt.axhline(y=test_acc, color='r', linestyle='--', label='Final Test Accuracy')\n",
        "plt.xlabel('Epochs')\n",
        "plt.ylabel('Accuracy')\n",
        "plt.legend(loc='lower right')\n",
        "plt.grid(True, alpha=.2)\n",
        "\n",
        "plt.subplot(1, 2, 2)\n",
        "plt.plot(history.history['loss'], label='Training Loss')\n",
        "plt.plot(history.history['val_loss'], label='Validation Loss')\n",
        "#plt.axhline(y=test_loss, color='r', linestyle='--', label='Final Test Loss')\n",
        "plt.xlabel('Epochs')\n",
        "plt.ylabel('Loss')\n",
        "plt.legend(loc='upper right')\n",
        "plt.grid(True, alpha=.2)\n",
        "\n",
        "plt.tight_layout()\n",
        "plt.show()"
      ],
      "metadata": {
        "colab": {
          "base_uri": "https://localhost:8080/",
          "height": 406
        },
        "id": "4JEeMMP8aryF",
        "outputId": "1551a35b-953a-4fa4-ce1b-6af5b61447bc"
      },
      "execution_count": 13,
      "outputs": [
        {
          "output_type": "display_data",
          "data": {
            "text/plain": [
              "<Figure size 800x400 with 2 Axes>"
            ],
            "image/png": "[encoded data removed]"
          },
          "metadata": {}
        }
      ]
    },
    {
      "cell_type": "markdown",
      "source": [
        "# 7. Advanced Techniques"
      ],
      "metadata": {
        "id": "sFYNWlIdfLq3"
      }
    },
    {
      "cell_type": "code",
      "source": [
        "from tensorflow.keras.layers import Dropout\n",
        "from tensorflow.keras.callbacks import EarlyStopping\n",
        "from tensorflow.keras.optimizers import Adam"
      ],
      "metadata": {
        "id": "S0VFxEP_fWvw"
      },
      "execution_count": 17,
      "outputs": []
    },
    {
      "cell_type": "code",
      "source": [
        "# Define a neural network with one hidden layer\n",
        "model = Sequential()\n",
        "model.add(Dense(512, activation='relu', kernel_initializer='glorot_normal', input_shape=(784, )))\n",
        "model.add(Dropout(0.5))\n",
        "model.add(Dense(10, kernel_initializer='glorot_normal', activation='softmax'))\n",
        "\n",
        "# Define optimization method (모델 최적화 방법)\n",
        "# SGD = Stochastic Gradient Descent\n",
        "optimizer = Adam(learning_rate=0.001,\n",
        "                 beta_1=0.9,\n",
        "                 beta_2=0.999,\n",
        "                 weight_decay=0.001,\n",
        "                 )\n",
        "\n",
        "# Compile the model (모델 컴파일)\n",
        "model.compile(\n",
        "    optimizer=optimizer,                     # SGD 사용\n",
        "    loss='sparse_categorical_crossentropy',  # 손실함수 정의\n",
        "    metrics=['accuracy'],                    # 평가용 metric 추가\n",
        ")\n",
        "\n",
        "# Print the model summary\n",
        "model.summary()"
      ],
      "metadata": {
        "id": "JE18ugWbiJGE",
        "colab": {
          "base_uri": "https://localhost:8080/"
        },
        "outputId": "8faafd58-c776-4313-837f-aa7b9a05d62d"
      },
      "execution_count": 21,
      "outputs": [
        {
          "output_type": "stream",
          "name": "stdout",
          "text": [
            "Model: \"sequential_4\"\n",
            "_________________________________________________________________\n",
            " Layer (type)                Output Shape              Param #   \n",
            "=================================================================\n",
            " dense_8 (Dense)             (None, 512)               401920    \n",
            "                                                                 \n",
            " dropout_3 (Dropout)         (None, 512)               0         \n",
            "                                                                 \n",
            " dense_9 (Dense)             (None, 10)                5130      \n",
            "                                                                 \n",
            "=================================================================\n",
            "Total params: 407050 (1.55 MB)\n",
            "Trainable params: 407050 (1.55 MB)\n",
            "Non-trainable params: 0 (0.00 Byte)\n",
            "_________________________________________________________________\n"
          ]
        }
      ]
    },
    {
      "cell_type": "code",
      "source": [
        "# Early stopping callback\n",
        "early_stopping = EarlyStopping(monitor=\"val_loss\",\n",
        "                               min_delta=1e-3,\n",
        "                               patience=5,\n",
        "                               verbose=1,\n",
        "                               )\n",
        "\n",
        "# Train the model\n",
        "history = model.fit(X_train, y_train,\n",
        "                    epochs=100,            # 모델이 학습 데이터 전체를 보는 횟수\n",
        "                    batch_size=128,        # 모델이 1회 업데이트 시 처리하는 관측치 수\n",
        "                    validation_split=0.1,  # 전체의 10%를 validation 용도로 사용\n",
        "                    callbacks=[early_stopping],\n",
        "                    )"
      ],
      "metadata": {
        "colab": {
          "base_uri": "https://localhost:8080/"
        },
        "id": "gfgzY8m9gYZX",
        "outputId": "92c1cae3-1448-4423-ffef-c55dceb9f12e"
      },
      "execution_count": 22,
      "outputs": [
        {
          "output_type": "stream",
          "name": "stdout",
          "text": [
            "Epoch 1/100\n",
            "422/422 [==============================] - 5s 12ms/step - loss: 0.3496 - accuracy: 0.8980 - val_loss: 0.1345 - val_accuracy: 0.9635\n",
            "Epoch 2/100\n",
            "422/422 [==============================] - 5s 13ms/step - loss: 0.1684 - accuracy: 0.9506 - val_loss: 0.0939 - val_accuracy: 0.9755\n",
            "Epoch 3/100\n",
            "422/422 [==============================] - 4s 10ms/step - loss: 0.1260 - accuracy: 0.9620 - val_loss: 0.0781 - val_accuracy: 0.9777\n",
            "Epoch 4/100\n",
            "422/422 [==============================] - 6s 15ms/step - loss: 0.1027 - accuracy: 0.9691 - val_loss: 0.0702 - val_accuracy: 0.9808\n",
            "Epoch 5/100\n",
            "422/422 [==============================] - 5s 11ms/step - loss: 0.0877 - accuracy: 0.9733 - val_loss: 0.0661 - val_accuracy: 0.9805\n",
            "Epoch 6/100\n",
            "422/422 [==============================] - 4s 10ms/step - loss: 0.0751 - accuracy: 0.9770 - val_loss: 0.0660 - val_accuracy: 0.9815\n",
            "Epoch 7/100\n",
            "422/422 [==============================] - 5s 12ms/step - loss: 0.0683 - accuracy: 0.9798 - val_loss: 0.0626 - val_accuracy: 0.9832\n",
            "Epoch 8/100\n",
            "422/422 [==============================] - 5s 11ms/step - loss: 0.0591 - accuracy: 0.9813 - val_loss: 0.0634 - val_accuracy: 0.9823\n",
            "Epoch 9/100\n",
            "422/422 [==============================] - 4s 10ms/step - loss: 0.0550 - accuracy: 0.9827 - val_loss: 0.0591 - val_accuracy: 0.9845\n",
            "Epoch 10/100\n",
            "422/422 [==============================] - 5s 12ms/step - loss: 0.0509 - accuracy: 0.9835 - val_loss: 0.0605 - val_accuracy: 0.9843\n",
            "Epoch 11/100\n",
            "422/422 [==============================] - 5s 11ms/step - loss: 0.0448 - accuracy: 0.9854 - val_loss: 0.0579 - val_accuracy: 0.9857\n",
            "Epoch 12/100\n",
            "422/422 [==============================] - 4s 10ms/step - loss: 0.0428 - accuracy: 0.9859 - val_loss: 0.0618 - val_accuracy: 0.9842\n",
            "Epoch 13/100\n",
            "422/422 [==============================] - 5s 11ms/step - loss: 0.0391 - accuracy: 0.9871 - val_loss: 0.0576 - val_accuracy: 0.9848\n",
            "Epoch 14/100\n",
            "422/422 [==============================] - 5s 12ms/step - loss: 0.0358 - accuracy: 0.9879 - val_loss: 0.0605 - val_accuracy: 0.9850\n",
            "Epoch 15/100\n",
            "422/422 [==============================] - 4s 10ms/step - loss: 0.0360 - accuracy: 0.9882 - val_loss: 0.0596 - val_accuracy: 0.9852\n",
            "Epoch 16/100\n",
            "422/422 [==============================] - 5s 11ms/step - loss: 0.0332 - accuracy: 0.9890 - val_loss: 0.0599 - val_accuracy: 0.9850\n",
            "Epoch 16: early stopping\n"
          ]
        }
      ]
    },
    {
      "cell_type": "code",
      "source": [
        "# Plot the training accuracy and loss\n",
        "plt.figure(figsize=(8, 4))\n",
        "plt.subplot(1, 2, 1)\n",
        "plt.plot(history.history['accuracy'], label='Training Accuracy')\n",
        "plt.plot(history.history['val_accuracy'], label='Validation Accuracy')\n",
        "\n",
        "plt.xlabel('Epochs')\n",
        "plt.ylabel('Accuracy')\n",
        "plt.legend(loc='lower right')\n",
        "plt.grid(True, alpha=.2)\n",
        "\n",
        "plt.subplot(1, 2, 2)\n",
        "plt.plot(history.history['loss'], label='Training Loss')\n",
        "plt.plot(history.history['val_loss'], label='Validation Loss')\n",
        "\n",
        "plt.xlabel('Epochs')\n",
        "plt.ylabel('Loss')\n",
        "plt.legend(loc='upper right')\n",
        "plt.grid(True, alpha=.2)\n",
        "\n",
        "plt.tight_layout()\n",
        "plt.show()"
      ],
      "metadata": {
        "colab": {
          "base_uri": "https://localhost:8080/",
          "height": 407
        },
        "id": "Sj1grNw_g4Dg",
        "outputId": "2800a72a-bf25-44c6-9f75-2e1ca740dcdc"
      },
      "execution_count": 23,
      "outputs": [
        {
          "output_type": "display_data",
          "data": {
            "text/plain": [
              "<Figure size 800x400 with 2 Axes>"
            ],
            "image/png": "[encoded data removed]"
          },
          "metadata": {}
        }
      ]
    },
    {
      "cell_type": "code",
      "source": [],
      "metadata": {
        "id": "Iv0C3LM8hssP"
      },
      "execution_count": null,
      "outputs": []
    }
  ]
}